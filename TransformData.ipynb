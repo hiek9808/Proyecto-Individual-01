{
 "cells": [
  {
   "cell_type": "code",
   "execution_count": 1,
   "metadata": {
    "collapsed": true
   },
   "outputs": [],
   "source": [
    "import pandas as pd\n",
    "import numpy as np"
   ]
  },
  {
   "cell_type": "code",
   "execution_count": 2,
   "outputs": [],
   "source": [
    "amazon = pd.read_csv('./datasets/amazon_prime_titles.csv')"
   ],
   "metadata": {
    "collapsed": false
   }
  },
  {
   "cell_type": "code",
   "execution_count": 3,
   "outputs": [
    {
     "data": {
      "text/plain": "     show_id     type                    title         director  \\\n0         s1    Movie      The Grand Seduction     Don McKellar   \n1         s2    Movie     Take Care Good Night     Girish Joshi   \n2         s3    Movie     Secrets of Deception      Josh Webber   \n3         s4    Movie       Pink: Staying True   Sonia Anderson   \n4         s5    Movie            Monster Maker     Giles Foster   \n...      ...      ...                      ...              ...   \n9663   s9664    Movie      Pride Of The Bowery  Joseph H. Lewis   \n9664   s9665  TV Show            Planet Patrol              NaN   \n9665   s9666    Movie                  Outpost     Steve Barker   \n9666   s9667  TV Show  Maradona: Blessed Dream              NaN   \n9667   s9668    Movie              Harry Brown    Daniel Barber   \n\n                                                   cast         country  \\\n0        Brendan Gleeson, Taylor Kitsch, Gordon Pinsent          Canada   \n1      Mahesh Manjrekar, Abhay Mahajan, Sachin Khedekar           India   \n2     Tom Sizemore, Lorenzo Lamas, Robert LaSardo, R...   United States   \n3     Interviews with: Pink, Adele, Beyoncé, Britney...   United States   \n4     Harry Dean Stanton, Kieran O'Brien, George Cos...  United Kingdom   \n...                                                 ...             ...   \n9663                           Leo Gorcey, Bobby Jordan             NaN   \n9664  DICK VOSBURGH, RONNIE STEVENS, LIBBY MORRIS, M...             NaN   \n9665  Ray Stevenson, Julian Wadham, Richard Brake, M...             NaN   \n9666  Esteban Recagno, Ezequiel Stremiz, Luciano Vit...             NaN   \n9667  Michael Caine, Emily Mortimer, Joseph Gilgun, ...             NaN   \n\n          date_added  release_year rating   duration                listed_in  \\\n0     March 30, 2021          2014    NaN    113 min            Comedy, Drama   \n1     March 30, 2021          2018    13+    110 min     Drama, International   \n2     March 30, 2021          2017    NaN     74 min  Action, Drama, Suspense   \n3     March 30, 2021          2014    NaN     69 min              Documentary   \n4     March 30, 2021          1989    NaN     45 min           Drama, Fantasy   \n...              ...           ...    ...        ...                      ...   \n9663             NaN          1940     7+     60 min                   Comedy   \n9664             NaN          2018    13+  4 Seasons                 TV Shows   \n9665             NaN          2008      R     90 min                   Action   \n9666             NaN          2021  TV-MA   1 Season            Drama, Sports   \n9667             NaN          2010      R    103 min  Action, Drama, Suspense   \n\n                                            description  \n0     A small fishing village must procure a local d...  \n1     A Metro Family decides to fight a Cyber Crimin...  \n2     After a man discovers his wife is cheating on ...  \n3     Pink breaks the mold once again, bringing her ...  \n4     Teenage Matt Banting wants to work with a famo...  \n...                                                 ...  \n9663  New York City street principles get an East Si...  \n9664  This is Earth, 2100AD - and these are the adve...  \n9665  In war-torn Eastern Europe, a world-weary grou...  \n9666  The series tells the story of Diego Maradona, ...  \n9667  Harry Brown, starring two-time Academy Award w...  \n\n[9668 rows x 12 columns]",
      "text/html": "<div>\n<style scoped>\n    .dataframe tbody tr th:only-of-type {\n        vertical-align: middle;\n    }\n\n    .dataframe tbody tr th {\n        vertical-align: top;\n    }\n\n    .dataframe thead th {\n        text-align: right;\n    }\n</style>\n<table border=\"1\" class=\"dataframe\">\n  <thead>\n    <tr style=\"text-align: right;\">\n      <th></th>\n      <th>show_id</th>\n      <th>type</th>\n      <th>title</th>\n      <th>director</th>\n      <th>cast</th>\n      <th>country</th>\n      <th>date_added</th>\n      <th>release_year</th>\n      <th>rating</th>\n      <th>duration</th>\n      <th>listed_in</th>\n      <th>description</th>\n    </tr>\n  </thead>\n  <tbody>\n    <tr>\n      <th>0</th>\n      <td>s1</td>\n      <td>Movie</td>\n      <td>The Grand Seduction</td>\n      <td>Don McKellar</td>\n      <td>Brendan Gleeson, Taylor Kitsch, Gordon Pinsent</td>\n      <td>Canada</td>\n      <td>March 30, 2021</td>\n      <td>2014</td>\n      <td>NaN</td>\n      <td>113 min</td>\n      <td>Comedy, Drama</td>\n      <td>A small fishing village must procure a local d...</td>\n    </tr>\n    <tr>\n      <th>1</th>\n      <td>s2</td>\n      <td>Movie</td>\n      <td>Take Care Good Night</td>\n      <td>Girish Joshi</td>\n      <td>Mahesh Manjrekar, Abhay Mahajan, Sachin Khedekar</td>\n      <td>India</td>\n      <td>March 30, 2021</td>\n      <td>2018</td>\n      <td>13+</td>\n      <td>110 min</td>\n      <td>Drama, International</td>\n      <td>A Metro Family decides to fight a Cyber Crimin...</td>\n    </tr>\n    <tr>\n      <th>2</th>\n      <td>s3</td>\n      <td>Movie</td>\n      <td>Secrets of Deception</td>\n      <td>Josh Webber</td>\n      <td>Tom Sizemore, Lorenzo Lamas, Robert LaSardo, R...</td>\n      <td>United States</td>\n      <td>March 30, 2021</td>\n      <td>2017</td>\n      <td>NaN</td>\n      <td>74 min</td>\n      <td>Action, Drama, Suspense</td>\n      <td>After a man discovers his wife is cheating on ...</td>\n    </tr>\n    <tr>\n      <th>3</th>\n      <td>s4</td>\n      <td>Movie</td>\n      <td>Pink: Staying True</td>\n      <td>Sonia Anderson</td>\n      <td>Interviews with: Pink, Adele, Beyoncé, Britney...</td>\n      <td>United States</td>\n      <td>March 30, 2021</td>\n      <td>2014</td>\n      <td>NaN</td>\n      <td>69 min</td>\n      <td>Documentary</td>\n      <td>Pink breaks the mold once again, bringing her ...</td>\n    </tr>\n    <tr>\n      <th>4</th>\n      <td>s5</td>\n      <td>Movie</td>\n      <td>Monster Maker</td>\n      <td>Giles Foster</td>\n      <td>Harry Dean Stanton, Kieran O'Brien, George Cos...</td>\n      <td>United Kingdom</td>\n      <td>March 30, 2021</td>\n      <td>1989</td>\n      <td>NaN</td>\n      <td>45 min</td>\n      <td>Drama, Fantasy</td>\n      <td>Teenage Matt Banting wants to work with a famo...</td>\n    </tr>\n    <tr>\n      <th>...</th>\n      <td>...</td>\n      <td>...</td>\n      <td>...</td>\n      <td>...</td>\n      <td>...</td>\n      <td>...</td>\n      <td>...</td>\n      <td>...</td>\n      <td>...</td>\n      <td>...</td>\n      <td>...</td>\n      <td>...</td>\n    </tr>\n    <tr>\n      <th>9663</th>\n      <td>s9664</td>\n      <td>Movie</td>\n      <td>Pride Of The Bowery</td>\n      <td>Joseph H. Lewis</td>\n      <td>Leo Gorcey, Bobby Jordan</td>\n      <td>NaN</td>\n      <td>NaN</td>\n      <td>1940</td>\n      <td>7+</td>\n      <td>60 min</td>\n      <td>Comedy</td>\n      <td>New York City street principles get an East Si...</td>\n    </tr>\n    <tr>\n      <th>9664</th>\n      <td>s9665</td>\n      <td>TV Show</td>\n      <td>Planet Patrol</td>\n      <td>NaN</td>\n      <td>DICK VOSBURGH, RONNIE STEVENS, LIBBY MORRIS, M...</td>\n      <td>NaN</td>\n      <td>NaN</td>\n      <td>2018</td>\n      <td>13+</td>\n      <td>4 Seasons</td>\n      <td>TV Shows</td>\n      <td>This is Earth, 2100AD - and these are the adve...</td>\n    </tr>\n    <tr>\n      <th>9665</th>\n      <td>s9666</td>\n      <td>Movie</td>\n      <td>Outpost</td>\n      <td>Steve Barker</td>\n      <td>Ray Stevenson, Julian Wadham, Richard Brake, M...</td>\n      <td>NaN</td>\n      <td>NaN</td>\n      <td>2008</td>\n      <td>R</td>\n      <td>90 min</td>\n      <td>Action</td>\n      <td>In war-torn Eastern Europe, a world-weary grou...</td>\n    </tr>\n    <tr>\n      <th>9666</th>\n      <td>s9667</td>\n      <td>TV Show</td>\n      <td>Maradona: Blessed Dream</td>\n      <td>NaN</td>\n      <td>Esteban Recagno, Ezequiel Stremiz, Luciano Vit...</td>\n      <td>NaN</td>\n      <td>NaN</td>\n      <td>2021</td>\n      <td>TV-MA</td>\n      <td>1 Season</td>\n      <td>Drama, Sports</td>\n      <td>The series tells the story of Diego Maradona, ...</td>\n    </tr>\n    <tr>\n      <th>9667</th>\n      <td>s9668</td>\n      <td>Movie</td>\n      <td>Harry Brown</td>\n      <td>Daniel Barber</td>\n      <td>Michael Caine, Emily Mortimer, Joseph Gilgun, ...</td>\n      <td>NaN</td>\n      <td>NaN</td>\n      <td>2010</td>\n      <td>R</td>\n      <td>103 min</td>\n      <td>Action, Drama, Suspense</td>\n      <td>Harry Brown, starring two-time Academy Award w...</td>\n    </tr>\n  </tbody>\n</table>\n<p>9668 rows × 12 columns</p>\n</div>"
     },
     "execution_count": 3,
     "metadata": {},
     "output_type": "execute_result"
    }
   ],
   "source": [
    "amazon"
   ],
   "metadata": {
    "collapsed": false
   }
  },
  {
   "cell_type": "code",
   "execution_count": 4,
   "outputs": [
    {
     "name": "stdout",
     "output_type": "stream",
     "text": [
      "<class 'pandas.core.frame.DataFrame'>\n",
      "RangeIndex: 9668 entries, 0 to 9667\n",
      "Data columns (total 12 columns):\n",
      " #   Column        Non-Null Count  Dtype \n",
      "---  ------        --------------  ----- \n",
      " 0   show_id       9668 non-null   object\n",
      " 1   type          9668 non-null   object\n",
      " 2   title         9668 non-null   object\n",
      " 3   director      7586 non-null   object\n",
      " 4   cast          8435 non-null   object\n",
      " 5   country       672 non-null    object\n",
      " 6   date_added    155 non-null    object\n",
      " 7   release_year  9668 non-null   int64 \n",
      " 8   rating        9331 non-null   object\n",
      " 9   duration      9668 non-null   object\n",
      " 10  listed_in     9668 non-null   object\n",
      " 11  description   9668 non-null   object\n",
      "dtypes: int64(1), object(11)\n",
      "memory usage: 906.5+ KB\n"
     ]
    }
   ],
   "source": [
    "amazon.info()"
   ],
   "metadata": {
    "collapsed": false
   }
  },
  {
   "cell_type": "code",
   "execution_count": 5,
   "outputs": [
    {
     "data": {
      "text/plain": "array(['The Grand Seduction', 'Take Care Good Night',\n       'Secrets of Deception', ..., 'Outpost', 'Maradona: Blessed Dream',\n       'Harry Brown'], dtype=object)"
     },
     "execution_count": 5,
     "metadata": {},
     "output_type": "execute_result"
    }
   ],
   "source": [
    "amazon.title.unique()"
   ],
   "metadata": {
    "collapsed": false
   }
  },
  {
   "cell_type": "code",
   "execution_count": 5,
   "outputs": [],
   "source": [],
   "metadata": {
    "collapsed": false
   }
  },
  {
   "cell_type": "code",
   "execution_count": 5,
   "outputs": [],
   "source": [],
   "metadata": {
    "collapsed": false
   }
  },
  {
   "cell_type": "code",
   "execution_count": 6,
   "outputs": [],
   "source": [
    "disney = pd.read_csv('./datasets/disney_plus_titles.csv')"
   ],
   "metadata": {
    "collapsed": false
   }
  },
  {
   "cell_type": "code",
   "execution_count": 7,
   "outputs": [
    {
     "data": {
      "text/plain": "  show_id     type                                             title  \\\n0      s1    Movie  Duck the Halls: A Mickey Mouse Christmas Special   \n1      s2    Movie                            Ernest Saves Christmas   \n2      s3    Movie                      Ice Age: A Mammoth Christmas   \n3      s4    Movie                        The Queen Family Singalong   \n4      s5  TV Show                             The Beatles: Get Back   \n\n                            director  \\\n0  Alonso Ramirez Ramos, Dave Wasson   \n1                        John Cherry   \n2                       Karen Disher   \n3                    Hamish Hamilton   \n4                                NaN   \n\n                                                cast        country  \\\n0  Chris Diamantopoulos, Tony Anselmo, Tress MacN...            NaN   \n1           Jim Varney, Noelle Parker, Douglas Seale            NaN   \n2  Raymond Albert Romano, John Leguizamo, Denis L...  United States   \n3  Darren Criss, Adam Lambert, Derek Hough, Alexa...            NaN   \n4  John Lennon, Paul McCartney, George Harrison, ...            NaN   \n\n          date_added  release_year rating  duration  \\\n0  November 26, 2021          2016   TV-G    23 min   \n1  November 26, 2021          1988     PG    91 min   \n2  November 26, 2021          2011   TV-G    23 min   \n3  November 26, 2021          2021  TV-PG    41 min   \n4  November 25, 2021          2021    NaN  1 Season   \n\n                       listed_in  \\\n0              Animation, Family   \n1                         Comedy   \n2      Animation, Comedy, Family   \n3                        Musical   \n4  Docuseries, Historical, Music   \n\n                                         description  \n0   Join Mickey and the gang as they duck the halls!  \n1  Santa Claus passes his magic bag to a new St. ...  \n2          Sid the Sloth is on Santa's naughty list.  \n3               This is real life, not just fantasy!  \n4  A three-part documentary from Peter Jackson ca...  ",
      "text/html": "<div>\n<style scoped>\n    .dataframe tbody tr th:only-of-type {\n        vertical-align: middle;\n    }\n\n    .dataframe tbody tr th {\n        vertical-align: top;\n    }\n\n    .dataframe thead th {\n        text-align: right;\n    }\n</style>\n<table border=\"1\" class=\"dataframe\">\n  <thead>\n    <tr style=\"text-align: right;\">\n      <th></th>\n      <th>show_id</th>\n      <th>type</th>\n      <th>title</th>\n      <th>director</th>\n      <th>cast</th>\n      <th>country</th>\n      <th>date_added</th>\n      <th>release_year</th>\n      <th>rating</th>\n      <th>duration</th>\n      <th>listed_in</th>\n      <th>description</th>\n    </tr>\n  </thead>\n  <tbody>\n    <tr>\n      <th>0</th>\n      <td>s1</td>\n      <td>Movie</td>\n      <td>Duck the Halls: A Mickey Mouse Christmas Special</td>\n      <td>Alonso Ramirez Ramos, Dave Wasson</td>\n      <td>Chris Diamantopoulos, Tony Anselmo, Tress MacN...</td>\n      <td>NaN</td>\n      <td>November 26, 2021</td>\n      <td>2016</td>\n      <td>TV-G</td>\n      <td>23 min</td>\n      <td>Animation, Family</td>\n      <td>Join Mickey and the gang as they duck the halls!</td>\n    </tr>\n    <tr>\n      <th>1</th>\n      <td>s2</td>\n      <td>Movie</td>\n      <td>Ernest Saves Christmas</td>\n      <td>John Cherry</td>\n      <td>Jim Varney, Noelle Parker, Douglas Seale</td>\n      <td>NaN</td>\n      <td>November 26, 2021</td>\n      <td>1988</td>\n      <td>PG</td>\n      <td>91 min</td>\n      <td>Comedy</td>\n      <td>Santa Claus passes his magic bag to a new St. ...</td>\n    </tr>\n    <tr>\n      <th>2</th>\n      <td>s3</td>\n      <td>Movie</td>\n      <td>Ice Age: A Mammoth Christmas</td>\n      <td>Karen Disher</td>\n      <td>Raymond Albert Romano, John Leguizamo, Denis L...</td>\n      <td>United States</td>\n      <td>November 26, 2021</td>\n      <td>2011</td>\n      <td>TV-G</td>\n      <td>23 min</td>\n      <td>Animation, Comedy, Family</td>\n      <td>Sid the Sloth is on Santa's naughty list.</td>\n    </tr>\n    <tr>\n      <th>3</th>\n      <td>s4</td>\n      <td>Movie</td>\n      <td>The Queen Family Singalong</td>\n      <td>Hamish Hamilton</td>\n      <td>Darren Criss, Adam Lambert, Derek Hough, Alexa...</td>\n      <td>NaN</td>\n      <td>November 26, 2021</td>\n      <td>2021</td>\n      <td>TV-PG</td>\n      <td>41 min</td>\n      <td>Musical</td>\n      <td>This is real life, not just fantasy!</td>\n    </tr>\n    <tr>\n      <th>4</th>\n      <td>s5</td>\n      <td>TV Show</td>\n      <td>The Beatles: Get Back</td>\n      <td>NaN</td>\n      <td>John Lennon, Paul McCartney, George Harrison, ...</td>\n      <td>NaN</td>\n      <td>November 25, 2021</td>\n      <td>2021</td>\n      <td>NaN</td>\n      <td>1 Season</td>\n      <td>Docuseries, Historical, Music</td>\n      <td>A three-part documentary from Peter Jackson ca...</td>\n    </tr>\n  </tbody>\n</table>\n</div>"
     },
     "execution_count": 7,
     "metadata": {},
     "output_type": "execute_result"
    }
   ],
   "source": [
    "disney.head()"
   ],
   "metadata": {
    "collapsed": false
   }
  },
  {
   "cell_type": "code",
   "execution_count": 8,
   "outputs": [
    {
     "name": "stdout",
     "output_type": "stream",
     "text": [
      "<class 'pandas.core.frame.DataFrame'>\n",
      "RangeIndex: 1450 entries, 0 to 1449\n",
      "Data columns (total 12 columns):\n",
      " #   Column        Non-Null Count  Dtype \n",
      "---  ------        --------------  ----- \n",
      " 0   show_id       1450 non-null   object\n",
      " 1   type          1450 non-null   object\n",
      " 2   title         1450 non-null   object\n",
      " 3   director      977 non-null    object\n",
      " 4   cast          1260 non-null   object\n",
      " 5   country       1231 non-null   object\n",
      " 6   date_added    1447 non-null   object\n",
      " 7   release_year  1450 non-null   int64 \n",
      " 8   rating        1447 non-null   object\n",
      " 9   duration      1450 non-null   object\n",
      " 10  listed_in     1450 non-null   object\n",
      " 11  description   1450 non-null   object\n",
      "dtypes: int64(1), object(11)\n",
      "memory usage: 136.1+ KB\n"
     ]
    }
   ],
   "source": [
    "disney.info()"
   ],
   "metadata": {
    "collapsed": false
   }
  },
  {
   "cell_type": "code",
   "execution_count": 9,
   "outputs": [
    {
     "data": {
      "text/plain": "array(['Duck the Halls: A Mickey Mouse Christmas Special',\n       'Ernest Saves Christmas', 'Ice Age: A Mammoth Christmas', ...,\n       'Eddie the Eagle', 'Bend It Like Beckham',\n       'Captain Sparky vs. The Flying Saucers'], dtype=object)"
     },
     "execution_count": 9,
     "metadata": {},
     "output_type": "execute_result"
    }
   ],
   "source": [
    "disney.title.unique()"
   ],
   "metadata": {
    "collapsed": false
   }
  },
  {
   "cell_type": "code",
   "execution_count": 10,
   "outputs": [],
   "source": [
    "hulu = pd.read_csv(\"./datasets/hulu_titles.csv\")"
   ],
   "metadata": {
    "collapsed": false
   }
  },
  {
   "cell_type": "code",
   "execution_count": 11,
   "outputs": [
    {
     "data": {
      "text/plain": "  show_id   type                           title director  cast country  \\\n0      s1  Movie  Ricky Velez: Here's Everything      NaN   NaN     NaN   \n1      s2  Movie                    Silent Night      NaN   NaN     NaN   \n2      s3  Movie                    The Marksman      NaN   NaN     NaN   \n3      s4  Movie                            Gaia      NaN   NaN     NaN   \n4      s5  Movie                        Settlers      NaN   NaN     NaN   \n\n         date_added  release_year rating duration                  listed_in  \\\n0  October 24, 2021          2021  TV-MA      NaN           Comedy, Stand Up   \n1  October 23, 2021          2020    NaN   94 min     Crime, Drama, Thriller   \n2  October 23, 2021          2021  PG-13  108 min           Action, Thriller   \n3  October 22, 2021          2021      R   97 min                     Horror   \n4  October 22, 2021          2021    NaN  104 min  Science Fiction, Thriller   \n\n                                         description  \n0  ​Comedian Ricky Velez bares it all with his ho...  \n1  Mark, a low end South London hitman recently r...  \n2  A hardened Arizona rancher tries to protect an...  \n3  A forest ranger and two survivalists with a cu...  \n4  Mankind's earliest settlers on the Martian fro...  ",
      "text/html": "<div>\n<style scoped>\n    .dataframe tbody tr th:only-of-type {\n        vertical-align: middle;\n    }\n\n    .dataframe tbody tr th {\n        vertical-align: top;\n    }\n\n    .dataframe thead th {\n        text-align: right;\n    }\n</style>\n<table border=\"1\" class=\"dataframe\">\n  <thead>\n    <tr style=\"text-align: right;\">\n      <th></th>\n      <th>show_id</th>\n      <th>type</th>\n      <th>title</th>\n      <th>director</th>\n      <th>cast</th>\n      <th>country</th>\n      <th>date_added</th>\n      <th>release_year</th>\n      <th>rating</th>\n      <th>duration</th>\n      <th>listed_in</th>\n      <th>description</th>\n    </tr>\n  </thead>\n  <tbody>\n    <tr>\n      <th>0</th>\n      <td>s1</td>\n      <td>Movie</td>\n      <td>Ricky Velez: Here's Everything</td>\n      <td>NaN</td>\n      <td>NaN</td>\n      <td>NaN</td>\n      <td>October 24, 2021</td>\n      <td>2021</td>\n      <td>TV-MA</td>\n      <td>NaN</td>\n      <td>Comedy, Stand Up</td>\n      <td>​Comedian Ricky Velez bares it all with his ho...</td>\n    </tr>\n    <tr>\n      <th>1</th>\n      <td>s2</td>\n      <td>Movie</td>\n      <td>Silent Night</td>\n      <td>NaN</td>\n      <td>NaN</td>\n      <td>NaN</td>\n      <td>October 23, 2021</td>\n      <td>2020</td>\n      <td>NaN</td>\n      <td>94 min</td>\n      <td>Crime, Drama, Thriller</td>\n      <td>Mark, a low end South London hitman recently r...</td>\n    </tr>\n    <tr>\n      <th>2</th>\n      <td>s3</td>\n      <td>Movie</td>\n      <td>The Marksman</td>\n      <td>NaN</td>\n      <td>NaN</td>\n      <td>NaN</td>\n      <td>October 23, 2021</td>\n      <td>2021</td>\n      <td>PG-13</td>\n      <td>108 min</td>\n      <td>Action, Thriller</td>\n      <td>A hardened Arizona rancher tries to protect an...</td>\n    </tr>\n    <tr>\n      <th>3</th>\n      <td>s4</td>\n      <td>Movie</td>\n      <td>Gaia</td>\n      <td>NaN</td>\n      <td>NaN</td>\n      <td>NaN</td>\n      <td>October 22, 2021</td>\n      <td>2021</td>\n      <td>R</td>\n      <td>97 min</td>\n      <td>Horror</td>\n      <td>A forest ranger and two survivalists with a cu...</td>\n    </tr>\n    <tr>\n      <th>4</th>\n      <td>s5</td>\n      <td>Movie</td>\n      <td>Settlers</td>\n      <td>NaN</td>\n      <td>NaN</td>\n      <td>NaN</td>\n      <td>October 22, 2021</td>\n      <td>2021</td>\n      <td>NaN</td>\n      <td>104 min</td>\n      <td>Science Fiction, Thriller</td>\n      <td>Mankind's earliest settlers on the Martian fro...</td>\n    </tr>\n  </tbody>\n</table>\n</div>"
     },
     "execution_count": 11,
     "metadata": {},
     "output_type": "execute_result"
    }
   ],
   "source": [
    "hulu.head()"
   ],
   "metadata": {
    "collapsed": false
   }
  },
  {
   "cell_type": "code",
   "execution_count": 12,
   "outputs": [
    {
     "name": "stdout",
     "output_type": "stream",
     "text": [
      "<class 'pandas.core.frame.DataFrame'>\n",
      "RangeIndex: 3073 entries, 0 to 3072\n",
      "Data columns (total 12 columns):\n",
      " #   Column        Non-Null Count  Dtype  \n",
      "---  ------        --------------  -----  \n",
      " 0   show_id       3073 non-null   object \n",
      " 1   type          3073 non-null   object \n",
      " 2   title         3073 non-null   object \n",
      " 3   director      3 non-null      object \n",
      " 4   cast          0 non-null      float64\n",
      " 5   country       1620 non-null   object \n",
      " 6   date_added    3045 non-null   object \n",
      " 7   release_year  3073 non-null   int64  \n",
      " 8   rating        2553 non-null   object \n",
      " 9   duration      2594 non-null   object \n",
      " 10  listed_in     3073 non-null   object \n",
      " 11  description   3069 non-null   object \n",
      "dtypes: float64(1), int64(1), object(10)\n",
      "memory usage: 288.2+ KB\n"
     ]
    }
   ],
   "source": [
    "hulu.info()"
   ],
   "metadata": {
    "collapsed": false
   }
  },
  {
   "cell_type": "code",
   "execution_count": 13,
   "outputs": [
    {
     "data": {
      "text/plain": "array([\"Ricky Velez: Here's Everything\", 'Silent Night', 'The Marksman',\n       ..., 'The Fades', 'The Twilight Zone', 'Tokyo Magnitude 8.0'],\n      dtype=object)"
     },
     "execution_count": 13,
     "metadata": {},
     "output_type": "execute_result"
    }
   ],
   "source": [
    "hulu.title.unique()"
   ],
   "metadata": {
    "collapsed": false
   }
  },
  {
   "cell_type": "code",
   "execution_count": 14,
   "outputs": [],
   "source": [
    "netflix = pd.read_json(\"./datasets/netflix_titles.json\")"
   ],
   "metadata": {
    "collapsed": false
   }
  },
  {
   "cell_type": "code",
   "execution_count": 15,
   "outputs": [
    {
     "data": {
      "text/plain": "  show_id     type                  title         director  \\\n0      s1    Movie   Dick Johnson Is Dead  Kirsten Johnson   \n1      s2  TV Show          Blood & Water             None   \n2      s3  TV Show              Ganglands  Julien Leclercq   \n3      s4  TV Show  Jailbirds New Orleans             None   \n4      s5  TV Show           Kota Factory             None   \n\n                                                cast        country  \\\n0                                               None  United States   \n1  Ama Qamata, Khosi Ngema, Gail Mabalane, Thaban...   South Africa   \n2  Sami Bouajila, Tracy Gotoas, Samuel Jouy, Nabi...           None   \n3                                               None           None   \n4  Mayur More, Jitendra Kumar, Ranjan Raj, Alam K...          India   \n\n           date_added  release_year rating   duration  \\\n0  September 25, 2021          2020  PG-13     90 min   \n1  September 24, 2021          2021  TV-MA  2 Seasons   \n2  September 24, 2021          2021  TV-MA   1 Season   \n3  September 24, 2021          2021  TV-MA   1 Season   \n4  September 24, 2021          2021  TV-MA  2 Seasons   \n\n                                           listed_in  \\\n0                                      Documentaries   \n1    International TV Shows, TV Dramas, TV Mysteries   \n2  Crime TV Shows, International TV Shows, TV Act...   \n3                             Docuseries, Reality TV   \n4  International TV Shows, Romantic TV Shows, TV ...   \n\n                                         description  \n0  As her father nears the end of his life, filmm...  \n1  After crossing paths at a party, a Cape Town t...  \n2  To protect his family from a powerful drug lor...  \n3  Feuds, flirtations and toilet talk go down amo...  \n4  In a city of coaching centers known to train I...  ",
      "text/html": "<div>\n<style scoped>\n    .dataframe tbody tr th:only-of-type {\n        vertical-align: middle;\n    }\n\n    .dataframe tbody tr th {\n        vertical-align: top;\n    }\n\n    .dataframe thead th {\n        text-align: right;\n    }\n</style>\n<table border=\"1\" class=\"dataframe\">\n  <thead>\n    <tr style=\"text-align: right;\">\n      <th></th>\n      <th>show_id</th>\n      <th>type</th>\n      <th>title</th>\n      <th>director</th>\n      <th>cast</th>\n      <th>country</th>\n      <th>date_added</th>\n      <th>release_year</th>\n      <th>rating</th>\n      <th>duration</th>\n      <th>listed_in</th>\n      <th>description</th>\n    </tr>\n  </thead>\n  <tbody>\n    <tr>\n      <th>0</th>\n      <td>s1</td>\n      <td>Movie</td>\n      <td>Dick Johnson Is Dead</td>\n      <td>Kirsten Johnson</td>\n      <td>None</td>\n      <td>United States</td>\n      <td>September 25, 2021</td>\n      <td>2020</td>\n      <td>PG-13</td>\n      <td>90 min</td>\n      <td>Documentaries</td>\n      <td>As her father nears the end of his life, filmm...</td>\n    </tr>\n    <tr>\n      <th>1</th>\n      <td>s2</td>\n      <td>TV Show</td>\n      <td>Blood &amp; Water</td>\n      <td>None</td>\n      <td>Ama Qamata, Khosi Ngema, Gail Mabalane, Thaban...</td>\n      <td>South Africa</td>\n      <td>September 24, 2021</td>\n      <td>2021</td>\n      <td>TV-MA</td>\n      <td>2 Seasons</td>\n      <td>International TV Shows, TV Dramas, TV Mysteries</td>\n      <td>After crossing paths at a party, a Cape Town t...</td>\n    </tr>\n    <tr>\n      <th>2</th>\n      <td>s3</td>\n      <td>TV Show</td>\n      <td>Ganglands</td>\n      <td>Julien Leclercq</td>\n      <td>Sami Bouajila, Tracy Gotoas, Samuel Jouy, Nabi...</td>\n      <td>None</td>\n      <td>September 24, 2021</td>\n      <td>2021</td>\n      <td>TV-MA</td>\n      <td>1 Season</td>\n      <td>Crime TV Shows, International TV Shows, TV Act...</td>\n      <td>To protect his family from a powerful drug lor...</td>\n    </tr>\n    <tr>\n      <th>3</th>\n      <td>s4</td>\n      <td>TV Show</td>\n      <td>Jailbirds New Orleans</td>\n      <td>None</td>\n      <td>None</td>\n      <td>None</td>\n      <td>September 24, 2021</td>\n      <td>2021</td>\n      <td>TV-MA</td>\n      <td>1 Season</td>\n      <td>Docuseries, Reality TV</td>\n      <td>Feuds, flirtations and toilet talk go down amo...</td>\n    </tr>\n    <tr>\n      <th>4</th>\n      <td>s5</td>\n      <td>TV Show</td>\n      <td>Kota Factory</td>\n      <td>None</td>\n      <td>Mayur More, Jitendra Kumar, Ranjan Raj, Alam K...</td>\n      <td>India</td>\n      <td>September 24, 2021</td>\n      <td>2021</td>\n      <td>TV-MA</td>\n      <td>2 Seasons</td>\n      <td>International TV Shows, Romantic TV Shows, TV ...</td>\n      <td>In a city of coaching centers known to train I...</td>\n    </tr>\n  </tbody>\n</table>\n</div>"
     },
     "execution_count": 15,
     "metadata": {},
     "output_type": "execute_result"
    }
   ],
   "source": [
    "netflix.head()"
   ],
   "metadata": {
    "collapsed": false
   }
  },
  {
   "cell_type": "code",
   "execution_count": 16,
   "outputs": [
    {
     "name": "stdout",
     "output_type": "stream",
     "text": [
      "<class 'pandas.core.frame.DataFrame'>\n",
      "Int64Index: 8807 entries, 0 to 8806\n",
      "Data columns (total 12 columns):\n",
      " #   Column        Non-Null Count  Dtype \n",
      "---  ------        --------------  ----- \n",
      " 0   show_id       8807 non-null   object\n",
      " 1   type          8807 non-null   object\n",
      " 2   title         8807 non-null   object\n",
      " 3   director      6173 non-null   object\n",
      " 4   cast          7982 non-null   object\n",
      " 5   country       7976 non-null   object\n",
      " 6   date_added    8797 non-null   object\n",
      " 7   release_year  8807 non-null   int64 \n",
      " 8   rating        8803 non-null   object\n",
      " 9   duration      8804 non-null   object\n",
      " 10  listed_in     8807 non-null   object\n",
      " 11  description   8807 non-null   object\n",
      "dtypes: int64(1), object(11)\n",
      "memory usage: 894.5+ KB\n"
     ]
    }
   ],
   "source": [
    "netflix.info()"
   ],
   "metadata": {
    "collapsed": false
   }
  },
  {
   "cell_type": "code",
   "execution_count": 17,
   "outputs": [
    {
     "data": {
      "text/plain": "array(['Dick Johnson Is Dead', 'Blood & Water', 'Ganglands', ...,\n       'Zombieland', 'Zoom', 'Zubaan'], dtype=object)"
     },
     "execution_count": 17,
     "metadata": {},
     "output_type": "execute_result"
    }
   ],
   "source": [
    "netflix.title.unique()"
   ],
   "metadata": {
    "collapsed": false
   }
  },
  {
   "cell_type": "code",
   "execution_count": 18,
   "outputs": [],
   "source": [
    "amazon['platform'] = 'amazon prime'\n",
    "disney['platform'] = 'disney plus'\n",
    "hulu['platform'] = 'hulu'\n",
    "netflix['platform'] = 'netflix'"
   ],
   "metadata": {
    "collapsed": false
   }
  },
  {
   "cell_type": "code",
   "execution_count": 19,
   "outputs": [],
   "source": [
    "full_data = pd.concat([amazon, disney, hulu, netflix])"
   ],
   "metadata": {
    "collapsed": false
   }
  },
  {
   "cell_type": "code",
   "execution_count": 20,
   "outputs": [
    {
     "data": {
      "text/plain": "     show_id     type                 title         director  \\\n0         s1    Movie   The Grand Seduction     Don McKellar   \n1         s2    Movie  Take Care Good Night     Girish Joshi   \n2         s3    Movie  Secrets of Deception      Josh Webber   \n3         s4    Movie    Pink: Staying True   Sonia Anderson   \n4         s5    Movie         Monster Maker     Giles Foster   \n...      ...      ...                   ...              ...   \n8802   s8803    Movie                Zodiac    David Fincher   \n8803   s8804  TV Show           Zombie Dumb             None   \n8804   s8805    Movie            Zombieland  Ruben Fleischer   \n8805   s8806    Movie                  Zoom     Peter Hewitt   \n8806   s8807    Movie                Zubaan      Mozez Singh   \n\n                                                   cast         country  \\\n0        Brendan Gleeson, Taylor Kitsch, Gordon Pinsent          Canada   \n1      Mahesh Manjrekar, Abhay Mahajan, Sachin Khedekar           India   \n2     Tom Sizemore, Lorenzo Lamas, Robert LaSardo, R...   United States   \n3     Interviews with: Pink, Adele, Beyoncé, Britney...   United States   \n4     Harry Dean Stanton, Kieran O'Brien, George Cos...  United Kingdom   \n...                                                 ...             ...   \n8802  Mark Ruffalo, Jake Gyllenhaal, Robert Downey J...   United States   \n8803                                               None            None   \n8804  Jesse Eisenberg, Woody Harrelson, Emma Stone, ...   United States   \n8805  Tim Allen, Courteney Cox, Chevy Chase, Kate Ma...   United States   \n8806  Vicky Kaushal, Sarah-Jane Dias, Raaghav Chanan...           India   \n\n             date_added  release_year rating   duration  \\\n0        March 30, 2021          2014    NaN    113 min   \n1        March 30, 2021          2018    13+    110 min   \n2        March 30, 2021          2017    NaN     74 min   \n3        March 30, 2021          2014    NaN     69 min   \n4        March 30, 2021          1989    NaN     45 min   \n...                 ...           ...    ...        ...   \n8802  November 20, 2019          2007      R    158 min   \n8803       July 1, 2019          2018  TV-Y7  2 Seasons   \n8804   November 1, 2019          2009      R     88 min   \n8805   January 11, 2020          2006     PG     88 min   \n8806      March 2, 2019          2015  TV-14    111 min   \n\n                                           listed_in  \\\n0                                      Comedy, Drama   \n1                               Drama, International   \n2                            Action, Drama, Suspense   \n3                                        Documentary   \n4                                     Drama, Fantasy   \n...                                              ...   \n8802                  Cult Movies, Dramas, Thrillers   \n8803          Kids' TV, Korean TV Shows, TV Comedies   \n8804                         Comedies, Horror Movies   \n8805              Children & Family Movies, Comedies   \n8806  Dramas, International Movies, Music & Musicals   \n\n                                            description      platform  \n0     A small fishing village must procure a local d...  amazon prime  \n1     A Metro Family decides to fight a Cyber Crimin...  amazon prime  \n2     After a man discovers his wife is cheating on ...  amazon prime  \n3     Pink breaks the mold once again, bringing her ...  amazon prime  \n4     Teenage Matt Banting wants to work with a famo...  amazon prime  \n...                                                 ...           ...  \n8802  A political cartoonist, a crime reporter and a...       netflix  \n8803  While living alone in a spooky town, a young g...       netflix  \n8804  Looking to survive in a world taken over by zo...       netflix  \n8805  Dragged from civilian life, a former superhero...       netflix  \n8806  A scrappy but poor boy worms his way into a ty...       netflix  \n\n[22998 rows x 13 columns]",
      "text/html": "<div>\n<style scoped>\n    .dataframe tbody tr th:only-of-type {\n        vertical-align: middle;\n    }\n\n    .dataframe tbody tr th {\n        vertical-align: top;\n    }\n\n    .dataframe thead th {\n        text-align: right;\n    }\n</style>\n<table border=\"1\" class=\"dataframe\">\n  <thead>\n    <tr style=\"text-align: right;\">\n      <th></th>\n      <th>show_id</th>\n      <th>type</th>\n      <th>title</th>\n      <th>director</th>\n      <th>cast</th>\n      <th>country</th>\n      <th>date_added</th>\n      <th>release_year</th>\n      <th>rating</th>\n      <th>duration</th>\n      <th>listed_in</th>\n      <th>description</th>\n      <th>platform</th>\n    </tr>\n  </thead>\n  <tbody>\n    <tr>\n      <th>0</th>\n      <td>s1</td>\n      <td>Movie</td>\n      <td>The Grand Seduction</td>\n      <td>Don McKellar</td>\n      <td>Brendan Gleeson, Taylor Kitsch, Gordon Pinsent</td>\n      <td>Canada</td>\n      <td>March 30, 2021</td>\n      <td>2014</td>\n      <td>NaN</td>\n      <td>113 min</td>\n      <td>Comedy, Drama</td>\n      <td>A small fishing village must procure a local d...</td>\n      <td>amazon prime</td>\n    </tr>\n    <tr>\n      <th>1</th>\n      <td>s2</td>\n      <td>Movie</td>\n      <td>Take Care Good Night</td>\n      <td>Girish Joshi</td>\n      <td>Mahesh Manjrekar, Abhay Mahajan, Sachin Khedekar</td>\n      <td>India</td>\n      <td>March 30, 2021</td>\n      <td>2018</td>\n      <td>13+</td>\n      <td>110 min</td>\n      <td>Drama, International</td>\n      <td>A Metro Family decides to fight a Cyber Crimin...</td>\n      <td>amazon prime</td>\n    </tr>\n    <tr>\n      <th>2</th>\n      <td>s3</td>\n      <td>Movie</td>\n      <td>Secrets of Deception</td>\n      <td>Josh Webber</td>\n      <td>Tom Sizemore, Lorenzo Lamas, Robert LaSardo, R...</td>\n      <td>United States</td>\n      <td>March 30, 2021</td>\n      <td>2017</td>\n      <td>NaN</td>\n      <td>74 min</td>\n      <td>Action, Drama, Suspense</td>\n      <td>After a man discovers his wife is cheating on ...</td>\n      <td>amazon prime</td>\n    </tr>\n    <tr>\n      <th>3</th>\n      <td>s4</td>\n      <td>Movie</td>\n      <td>Pink: Staying True</td>\n      <td>Sonia Anderson</td>\n      <td>Interviews with: Pink, Adele, Beyoncé, Britney...</td>\n      <td>United States</td>\n      <td>March 30, 2021</td>\n      <td>2014</td>\n      <td>NaN</td>\n      <td>69 min</td>\n      <td>Documentary</td>\n      <td>Pink breaks the mold once again, bringing her ...</td>\n      <td>amazon prime</td>\n    </tr>\n    <tr>\n      <th>4</th>\n      <td>s5</td>\n      <td>Movie</td>\n      <td>Monster Maker</td>\n      <td>Giles Foster</td>\n      <td>Harry Dean Stanton, Kieran O'Brien, George Cos...</td>\n      <td>United Kingdom</td>\n      <td>March 30, 2021</td>\n      <td>1989</td>\n      <td>NaN</td>\n      <td>45 min</td>\n      <td>Drama, Fantasy</td>\n      <td>Teenage Matt Banting wants to work with a famo...</td>\n      <td>amazon prime</td>\n    </tr>\n    <tr>\n      <th>...</th>\n      <td>...</td>\n      <td>...</td>\n      <td>...</td>\n      <td>...</td>\n      <td>...</td>\n      <td>...</td>\n      <td>...</td>\n      <td>...</td>\n      <td>...</td>\n      <td>...</td>\n      <td>...</td>\n      <td>...</td>\n      <td>...</td>\n    </tr>\n    <tr>\n      <th>8802</th>\n      <td>s8803</td>\n      <td>Movie</td>\n      <td>Zodiac</td>\n      <td>David Fincher</td>\n      <td>Mark Ruffalo, Jake Gyllenhaal, Robert Downey J...</td>\n      <td>United States</td>\n      <td>November 20, 2019</td>\n      <td>2007</td>\n      <td>R</td>\n      <td>158 min</td>\n      <td>Cult Movies, Dramas, Thrillers</td>\n      <td>A political cartoonist, a crime reporter and a...</td>\n      <td>netflix</td>\n    </tr>\n    <tr>\n      <th>8803</th>\n      <td>s8804</td>\n      <td>TV Show</td>\n      <td>Zombie Dumb</td>\n      <td>None</td>\n      <td>None</td>\n      <td>None</td>\n      <td>July 1, 2019</td>\n      <td>2018</td>\n      <td>TV-Y7</td>\n      <td>2 Seasons</td>\n      <td>Kids' TV, Korean TV Shows, TV Comedies</td>\n      <td>While living alone in a spooky town, a young g...</td>\n      <td>netflix</td>\n    </tr>\n    <tr>\n      <th>8804</th>\n      <td>s8805</td>\n      <td>Movie</td>\n      <td>Zombieland</td>\n      <td>Ruben Fleischer</td>\n      <td>Jesse Eisenberg, Woody Harrelson, Emma Stone, ...</td>\n      <td>United States</td>\n      <td>November 1, 2019</td>\n      <td>2009</td>\n      <td>R</td>\n      <td>88 min</td>\n      <td>Comedies, Horror Movies</td>\n      <td>Looking to survive in a world taken over by zo...</td>\n      <td>netflix</td>\n    </tr>\n    <tr>\n      <th>8805</th>\n      <td>s8806</td>\n      <td>Movie</td>\n      <td>Zoom</td>\n      <td>Peter Hewitt</td>\n      <td>Tim Allen, Courteney Cox, Chevy Chase, Kate Ma...</td>\n      <td>United States</td>\n      <td>January 11, 2020</td>\n      <td>2006</td>\n      <td>PG</td>\n      <td>88 min</td>\n      <td>Children &amp; Family Movies, Comedies</td>\n      <td>Dragged from civilian life, a former superhero...</td>\n      <td>netflix</td>\n    </tr>\n    <tr>\n      <th>8806</th>\n      <td>s8807</td>\n      <td>Movie</td>\n      <td>Zubaan</td>\n      <td>Mozez Singh</td>\n      <td>Vicky Kaushal, Sarah-Jane Dias, Raaghav Chanan...</td>\n      <td>India</td>\n      <td>March 2, 2019</td>\n      <td>2015</td>\n      <td>TV-14</td>\n      <td>111 min</td>\n      <td>Dramas, International Movies, Music &amp; Musicals</td>\n      <td>A scrappy but poor boy worms his way into a ty...</td>\n      <td>netflix</td>\n    </tr>\n  </tbody>\n</table>\n<p>22998 rows × 13 columns</p>\n</div>"
     },
     "execution_count": 20,
     "metadata": {},
     "output_type": "execute_result"
    }
   ],
   "source": [
    "full_data"
   ],
   "metadata": {
    "collapsed": false
   }
  },
  {
   "cell_type": "code",
   "execution_count": 21,
   "outputs": [
    {
     "name": "stdout",
     "output_type": "stream",
     "text": [
      "<class 'pandas.core.frame.DataFrame'>\n",
      "Int64Index: 22998 entries, 0 to 8806\n",
      "Data columns (total 13 columns):\n",
      " #   Column        Non-Null Count  Dtype \n",
      "---  ------        --------------  ----- \n",
      " 0   show_id       22998 non-null  object\n",
      " 1   type          22998 non-null  object\n",
      " 2   title         22998 non-null  object\n",
      " 3   director      14739 non-null  object\n",
      " 4   cast          17677 non-null  object\n",
      " 5   country       11499 non-null  object\n",
      " 6   date_added    13444 non-null  object\n",
      " 7   release_year  22998 non-null  int64 \n",
      " 8   rating        22134 non-null  object\n",
      " 9   duration      22516 non-null  object\n",
      " 10  listed_in     22998 non-null  object\n",
      " 11  description   22994 non-null  object\n",
      " 12  platform      22998 non-null  object\n",
      "dtypes: int64(1), object(12)\n",
      "memory usage: 2.5+ MB\n"
     ]
    }
   ],
   "source": [
    "full_data.info()"
   ],
   "metadata": {
    "collapsed": false
   }
  },
  {
   "cell_type": "code",
   "execution_count": 22,
   "outputs": [],
   "source": [
    "full_data.drop(['show_id'], axis=1, inplace=True)"
   ],
   "metadata": {
    "collapsed": false
   }
  },
  {
   "cell_type": "code",
   "execution_count": 23,
   "outputs": [
    {
     "data": {
      "text/plain": "         type                 title         director  \\\n0       Movie   The Grand Seduction     Don McKellar   \n1       Movie  Take Care Good Night     Girish Joshi   \n2       Movie  Secrets of Deception      Josh Webber   \n3       Movie    Pink: Staying True   Sonia Anderson   \n4       Movie         Monster Maker     Giles Foster   \n...       ...                   ...              ...   \n8802    Movie                Zodiac    David Fincher   \n8803  TV Show           Zombie Dumb             None   \n8804    Movie            Zombieland  Ruben Fleischer   \n8805    Movie                  Zoom     Peter Hewitt   \n8806    Movie                Zubaan      Mozez Singh   \n\n                                                   cast         country  \\\n0        Brendan Gleeson, Taylor Kitsch, Gordon Pinsent          Canada   \n1      Mahesh Manjrekar, Abhay Mahajan, Sachin Khedekar           India   \n2     Tom Sizemore, Lorenzo Lamas, Robert LaSardo, R...   United States   \n3     Interviews with: Pink, Adele, Beyoncé, Britney...   United States   \n4     Harry Dean Stanton, Kieran O'Brien, George Cos...  United Kingdom   \n...                                                 ...             ...   \n8802  Mark Ruffalo, Jake Gyllenhaal, Robert Downey J...   United States   \n8803                                               None            None   \n8804  Jesse Eisenberg, Woody Harrelson, Emma Stone, ...   United States   \n8805  Tim Allen, Courteney Cox, Chevy Chase, Kate Ma...   United States   \n8806  Vicky Kaushal, Sarah-Jane Dias, Raaghav Chanan...           India   \n\n             date_added  release_year rating   duration  \\\n0        March 30, 2021          2014    NaN    113 min   \n1        March 30, 2021          2018    13+    110 min   \n2        March 30, 2021          2017    NaN     74 min   \n3        March 30, 2021          2014    NaN     69 min   \n4        March 30, 2021          1989    NaN     45 min   \n...                 ...           ...    ...        ...   \n8802  November 20, 2019          2007      R    158 min   \n8803       July 1, 2019          2018  TV-Y7  2 Seasons   \n8804   November 1, 2019          2009      R     88 min   \n8805   January 11, 2020          2006     PG     88 min   \n8806      March 2, 2019          2015  TV-14    111 min   \n\n                                           listed_in  \\\n0                                      Comedy, Drama   \n1                               Drama, International   \n2                            Action, Drama, Suspense   \n3                                        Documentary   \n4                                     Drama, Fantasy   \n...                                              ...   \n8802                  Cult Movies, Dramas, Thrillers   \n8803          Kids' TV, Korean TV Shows, TV Comedies   \n8804                         Comedies, Horror Movies   \n8805              Children & Family Movies, Comedies   \n8806  Dramas, International Movies, Music & Musicals   \n\n                                            description      platform  \n0     A small fishing village must procure a local d...  amazon prime  \n1     A Metro Family decides to fight a Cyber Crimin...  amazon prime  \n2     After a man discovers his wife is cheating on ...  amazon prime  \n3     Pink breaks the mold once again, bringing her ...  amazon prime  \n4     Teenage Matt Banting wants to work with a famo...  amazon prime  \n...                                                 ...           ...  \n8802  A political cartoonist, a crime reporter and a...       netflix  \n8803  While living alone in a spooky town, a young g...       netflix  \n8804  Looking to survive in a world taken over by zo...       netflix  \n8805  Dragged from civilian life, a former superhero...       netflix  \n8806  A scrappy but poor boy worms his way into a ty...       netflix  \n\n[22998 rows x 12 columns]",
      "text/html": "<div>\n<style scoped>\n    .dataframe tbody tr th:only-of-type {\n        vertical-align: middle;\n    }\n\n    .dataframe tbody tr th {\n        vertical-align: top;\n    }\n\n    .dataframe thead th {\n        text-align: right;\n    }\n</style>\n<table border=\"1\" class=\"dataframe\">\n  <thead>\n    <tr style=\"text-align: right;\">\n      <th></th>\n      <th>type</th>\n      <th>title</th>\n      <th>director</th>\n      <th>cast</th>\n      <th>country</th>\n      <th>date_added</th>\n      <th>release_year</th>\n      <th>rating</th>\n      <th>duration</th>\n      <th>listed_in</th>\n      <th>description</th>\n      <th>platform</th>\n    </tr>\n  </thead>\n  <tbody>\n    <tr>\n      <th>0</th>\n      <td>Movie</td>\n      <td>The Grand Seduction</td>\n      <td>Don McKellar</td>\n      <td>Brendan Gleeson, Taylor Kitsch, Gordon Pinsent</td>\n      <td>Canada</td>\n      <td>March 30, 2021</td>\n      <td>2014</td>\n      <td>NaN</td>\n      <td>113 min</td>\n      <td>Comedy, Drama</td>\n      <td>A small fishing village must procure a local d...</td>\n      <td>amazon prime</td>\n    </tr>\n    <tr>\n      <th>1</th>\n      <td>Movie</td>\n      <td>Take Care Good Night</td>\n      <td>Girish Joshi</td>\n      <td>Mahesh Manjrekar, Abhay Mahajan, Sachin Khedekar</td>\n      <td>India</td>\n      <td>March 30, 2021</td>\n      <td>2018</td>\n      <td>13+</td>\n      <td>110 min</td>\n      <td>Drama, International</td>\n      <td>A Metro Family decides to fight a Cyber Crimin...</td>\n      <td>amazon prime</td>\n    </tr>\n    <tr>\n      <th>2</th>\n      <td>Movie</td>\n      <td>Secrets of Deception</td>\n      <td>Josh Webber</td>\n      <td>Tom Sizemore, Lorenzo Lamas, Robert LaSardo, R...</td>\n      <td>United States</td>\n      <td>March 30, 2021</td>\n      <td>2017</td>\n      <td>NaN</td>\n      <td>74 min</td>\n      <td>Action, Drama, Suspense</td>\n      <td>After a man discovers his wife is cheating on ...</td>\n      <td>amazon prime</td>\n    </tr>\n    <tr>\n      <th>3</th>\n      <td>Movie</td>\n      <td>Pink: Staying True</td>\n      <td>Sonia Anderson</td>\n      <td>Interviews with: Pink, Adele, Beyoncé, Britney...</td>\n      <td>United States</td>\n      <td>March 30, 2021</td>\n      <td>2014</td>\n      <td>NaN</td>\n      <td>69 min</td>\n      <td>Documentary</td>\n      <td>Pink breaks the mold once again, bringing her ...</td>\n      <td>amazon prime</td>\n    </tr>\n    <tr>\n      <th>4</th>\n      <td>Movie</td>\n      <td>Monster Maker</td>\n      <td>Giles Foster</td>\n      <td>Harry Dean Stanton, Kieran O'Brien, George Cos...</td>\n      <td>United Kingdom</td>\n      <td>March 30, 2021</td>\n      <td>1989</td>\n      <td>NaN</td>\n      <td>45 min</td>\n      <td>Drama, Fantasy</td>\n      <td>Teenage Matt Banting wants to work with a famo...</td>\n      <td>amazon prime</td>\n    </tr>\n    <tr>\n      <th>...</th>\n      <td>...</td>\n      <td>...</td>\n      <td>...</td>\n      <td>...</td>\n      <td>...</td>\n      <td>...</td>\n      <td>...</td>\n      <td>...</td>\n      <td>...</td>\n      <td>...</td>\n      <td>...</td>\n      <td>...</td>\n    </tr>\n    <tr>\n      <th>8802</th>\n      <td>Movie</td>\n      <td>Zodiac</td>\n      <td>David Fincher</td>\n      <td>Mark Ruffalo, Jake Gyllenhaal, Robert Downey J...</td>\n      <td>United States</td>\n      <td>November 20, 2019</td>\n      <td>2007</td>\n      <td>R</td>\n      <td>158 min</td>\n      <td>Cult Movies, Dramas, Thrillers</td>\n      <td>A political cartoonist, a crime reporter and a...</td>\n      <td>netflix</td>\n    </tr>\n    <tr>\n      <th>8803</th>\n      <td>TV Show</td>\n      <td>Zombie Dumb</td>\n      <td>None</td>\n      <td>None</td>\n      <td>None</td>\n      <td>July 1, 2019</td>\n      <td>2018</td>\n      <td>TV-Y7</td>\n      <td>2 Seasons</td>\n      <td>Kids' TV, Korean TV Shows, TV Comedies</td>\n      <td>While living alone in a spooky town, a young g...</td>\n      <td>netflix</td>\n    </tr>\n    <tr>\n      <th>8804</th>\n      <td>Movie</td>\n      <td>Zombieland</td>\n      <td>Ruben Fleischer</td>\n      <td>Jesse Eisenberg, Woody Harrelson, Emma Stone, ...</td>\n      <td>United States</td>\n      <td>November 1, 2019</td>\n      <td>2009</td>\n      <td>R</td>\n      <td>88 min</td>\n      <td>Comedies, Horror Movies</td>\n      <td>Looking to survive in a world taken over by zo...</td>\n      <td>netflix</td>\n    </tr>\n    <tr>\n      <th>8805</th>\n      <td>Movie</td>\n      <td>Zoom</td>\n      <td>Peter Hewitt</td>\n      <td>Tim Allen, Courteney Cox, Chevy Chase, Kate Ma...</td>\n      <td>United States</td>\n      <td>January 11, 2020</td>\n      <td>2006</td>\n      <td>PG</td>\n      <td>88 min</td>\n      <td>Children &amp; Family Movies, Comedies</td>\n      <td>Dragged from civilian life, a former superhero...</td>\n      <td>netflix</td>\n    </tr>\n    <tr>\n      <th>8806</th>\n      <td>Movie</td>\n      <td>Zubaan</td>\n      <td>Mozez Singh</td>\n      <td>Vicky Kaushal, Sarah-Jane Dias, Raaghav Chanan...</td>\n      <td>India</td>\n      <td>March 2, 2019</td>\n      <td>2015</td>\n      <td>TV-14</td>\n      <td>111 min</td>\n      <td>Dramas, International Movies, Music &amp; Musicals</td>\n      <td>A scrappy but poor boy worms his way into a ty...</td>\n      <td>netflix</td>\n    </tr>\n  </tbody>\n</table>\n<p>22998 rows × 12 columns</p>\n</div>"
     },
     "execution_count": 23,
     "metadata": {},
     "output_type": "execute_result"
    }
   ],
   "source": [
    "full_data.drop_duplicates()"
   ],
   "metadata": {
    "collapsed": false
   }
  },
  {
   "cell_type": "code",
   "execution_count": 24,
   "outputs": [],
   "source": [
    "def clean_title(row):\n",
    "    symbols = \"\\\"$*;<=>@[\\]^_`{|}~\\n\"\n",
    "    special = [\"&nbsp\", \"(4K UHD)\", \"(4k UHD)\", \"(Subbed)\", \"4K UHD\"]\n",
    "    idioms = [\"(Telugu)\", \"(Tamil)\", \"(Mayalam)\", \"(Indi)\", \"(Telugu Dubbed)\", \"(Telugu Version)\",\n",
    "              \"(Tamil Version)\", \"(Malayalam)\", \"(Hindi)\", \"(Kannada)\", \"(Dubbed)\", \"(Dubbed)\", \"(Japanese Ver)\"]\n",
    "    for symbol in symbols:\n",
    "        row = row.replace(symbol, \"\")\n",
    "    for s in special:\n",
    "        row = row.replace(s, \" \")\n",
    "    for idiom in idioms:\n",
    "        row = row.replace(idiom, \"\")\n",
    "    return row.strip()\n",
    "\n"
   ],
   "metadata": {
    "collapsed": false
   }
  },
  {
   "cell_type": "code",
   "execution_count": 25,
   "outputs": [],
   "source": [
    "full_data.title = full_data.title.apply(clean_title)"
   ],
   "metadata": {
    "collapsed": false
   }
  },
  {
   "cell_type": "code",
   "execution_count": 26,
   "outputs": [
    {
     "data": {
      "text/plain": "         type                 title         director  \\\n0       Movie   The Grand Seduction     Don McKellar   \n1       Movie  Take Care Good Night     Girish Joshi   \n2       Movie  Secrets of Deception      Josh Webber   \n3       Movie    Pink: Staying True   Sonia Anderson   \n4       Movie         Monster Maker     Giles Foster   \n...       ...                   ...              ...   \n8802    Movie                Zodiac    David Fincher   \n8803  TV Show           Zombie Dumb             None   \n8804    Movie            Zombieland  Ruben Fleischer   \n8805    Movie                  Zoom     Peter Hewitt   \n8806    Movie                Zubaan      Mozez Singh   \n\n                                                   cast         country  \\\n0        Brendan Gleeson, Taylor Kitsch, Gordon Pinsent          Canada   \n1      Mahesh Manjrekar, Abhay Mahajan, Sachin Khedekar           India   \n2     Tom Sizemore, Lorenzo Lamas, Robert LaSardo, R...   United States   \n3     Interviews with: Pink, Adele, Beyoncé, Britney...   United States   \n4     Harry Dean Stanton, Kieran O'Brien, George Cos...  United Kingdom   \n...                                                 ...             ...   \n8802  Mark Ruffalo, Jake Gyllenhaal, Robert Downey J...   United States   \n8803                                               None            None   \n8804  Jesse Eisenberg, Woody Harrelson, Emma Stone, ...   United States   \n8805  Tim Allen, Courteney Cox, Chevy Chase, Kate Ma...   United States   \n8806  Vicky Kaushal, Sarah-Jane Dias, Raaghav Chanan...           India   \n\n             date_added  release_year rating   duration  \\\n0        March 30, 2021          2014    NaN    113 min   \n1        March 30, 2021          2018    13+    110 min   \n2        March 30, 2021          2017    NaN     74 min   \n3        March 30, 2021          2014    NaN     69 min   \n4        March 30, 2021          1989    NaN     45 min   \n...                 ...           ...    ...        ...   \n8802  November 20, 2019          2007      R    158 min   \n8803       July 1, 2019          2018  TV-Y7  2 Seasons   \n8804   November 1, 2019          2009      R     88 min   \n8805   January 11, 2020          2006     PG     88 min   \n8806      March 2, 2019          2015  TV-14    111 min   \n\n                                           listed_in  \\\n0                                      Comedy, Drama   \n1                               Drama, International   \n2                            Action, Drama, Suspense   \n3                                        Documentary   \n4                                     Drama, Fantasy   \n...                                              ...   \n8802                  Cult Movies, Dramas, Thrillers   \n8803          Kids' TV, Korean TV Shows, TV Comedies   \n8804                         Comedies, Horror Movies   \n8805              Children & Family Movies, Comedies   \n8806  Dramas, International Movies, Music & Musicals   \n\n                                            description      platform  \n0     A small fishing village must procure a local d...  amazon prime  \n1     A Metro Family decides to fight a Cyber Crimin...  amazon prime  \n2     After a man discovers his wife is cheating on ...  amazon prime  \n3     Pink breaks the mold once again, bringing her ...  amazon prime  \n4     Teenage Matt Banting wants to work with a famo...  amazon prime  \n...                                                 ...           ...  \n8802  A political cartoonist, a crime reporter and a...       netflix  \n8803  While living alone in a spooky town, a young g...       netflix  \n8804  Looking to survive in a world taken over by zo...       netflix  \n8805  Dragged from civilian life, a former superhero...       netflix  \n8806  A scrappy but poor boy worms his way into a ty...       netflix  \n\n[22998 rows x 12 columns]",
      "text/html": "<div>\n<style scoped>\n    .dataframe tbody tr th:only-of-type {\n        vertical-align: middle;\n    }\n\n    .dataframe tbody tr th {\n        vertical-align: top;\n    }\n\n    .dataframe thead th {\n        text-align: right;\n    }\n</style>\n<table border=\"1\" class=\"dataframe\">\n  <thead>\n    <tr style=\"text-align: right;\">\n      <th></th>\n      <th>type</th>\n      <th>title</th>\n      <th>director</th>\n      <th>cast</th>\n      <th>country</th>\n      <th>date_added</th>\n      <th>release_year</th>\n      <th>rating</th>\n      <th>duration</th>\n      <th>listed_in</th>\n      <th>description</th>\n      <th>platform</th>\n    </tr>\n  </thead>\n  <tbody>\n    <tr>\n      <th>0</th>\n      <td>Movie</td>\n      <td>The Grand Seduction</td>\n      <td>Don McKellar</td>\n      <td>Brendan Gleeson, Taylor Kitsch, Gordon Pinsent</td>\n      <td>Canada</td>\n      <td>March 30, 2021</td>\n      <td>2014</td>\n      <td>NaN</td>\n      <td>113 min</td>\n      <td>Comedy, Drama</td>\n      <td>A small fishing village must procure a local d...</td>\n      <td>amazon prime</td>\n    </tr>\n    <tr>\n      <th>1</th>\n      <td>Movie</td>\n      <td>Take Care Good Night</td>\n      <td>Girish Joshi</td>\n      <td>Mahesh Manjrekar, Abhay Mahajan, Sachin Khedekar</td>\n      <td>India</td>\n      <td>March 30, 2021</td>\n      <td>2018</td>\n      <td>13+</td>\n      <td>110 min</td>\n      <td>Drama, International</td>\n      <td>A Metro Family decides to fight a Cyber Crimin...</td>\n      <td>amazon prime</td>\n    </tr>\n    <tr>\n      <th>2</th>\n      <td>Movie</td>\n      <td>Secrets of Deception</td>\n      <td>Josh Webber</td>\n      <td>Tom Sizemore, Lorenzo Lamas, Robert LaSardo, R...</td>\n      <td>United States</td>\n      <td>March 30, 2021</td>\n      <td>2017</td>\n      <td>NaN</td>\n      <td>74 min</td>\n      <td>Action, Drama, Suspense</td>\n      <td>After a man discovers his wife is cheating on ...</td>\n      <td>amazon prime</td>\n    </tr>\n    <tr>\n      <th>3</th>\n      <td>Movie</td>\n      <td>Pink: Staying True</td>\n      <td>Sonia Anderson</td>\n      <td>Interviews with: Pink, Adele, Beyoncé, Britney...</td>\n      <td>United States</td>\n      <td>March 30, 2021</td>\n      <td>2014</td>\n      <td>NaN</td>\n      <td>69 min</td>\n      <td>Documentary</td>\n      <td>Pink breaks the mold once again, bringing her ...</td>\n      <td>amazon prime</td>\n    </tr>\n    <tr>\n      <th>4</th>\n      <td>Movie</td>\n      <td>Monster Maker</td>\n      <td>Giles Foster</td>\n      <td>Harry Dean Stanton, Kieran O'Brien, George Cos...</td>\n      <td>United Kingdom</td>\n      <td>March 30, 2021</td>\n      <td>1989</td>\n      <td>NaN</td>\n      <td>45 min</td>\n      <td>Drama, Fantasy</td>\n      <td>Teenage Matt Banting wants to work with a famo...</td>\n      <td>amazon prime</td>\n    </tr>\n    <tr>\n      <th>...</th>\n      <td>...</td>\n      <td>...</td>\n      <td>...</td>\n      <td>...</td>\n      <td>...</td>\n      <td>...</td>\n      <td>...</td>\n      <td>...</td>\n      <td>...</td>\n      <td>...</td>\n      <td>...</td>\n      <td>...</td>\n    </tr>\n    <tr>\n      <th>8802</th>\n      <td>Movie</td>\n      <td>Zodiac</td>\n      <td>David Fincher</td>\n      <td>Mark Ruffalo, Jake Gyllenhaal, Robert Downey J...</td>\n      <td>United States</td>\n      <td>November 20, 2019</td>\n      <td>2007</td>\n      <td>R</td>\n      <td>158 min</td>\n      <td>Cult Movies, Dramas, Thrillers</td>\n      <td>A political cartoonist, a crime reporter and a...</td>\n      <td>netflix</td>\n    </tr>\n    <tr>\n      <th>8803</th>\n      <td>TV Show</td>\n      <td>Zombie Dumb</td>\n      <td>None</td>\n      <td>None</td>\n      <td>None</td>\n      <td>July 1, 2019</td>\n      <td>2018</td>\n      <td>TV-Y7</td>\n      <td>2 Seasons</td>\n      <td>Kids' TV, Korean TV Shows, TV Comedies</td>\n      <td>While living alone in a spooky town, a young g...</td>\n      <td>netflix</td>\n    </tr>\n    <tr>\n      <th>8804</th>\n      <td>Movie</td>\n      <td>Zombieland</td>\n      <td>Ruben Fleischer</td>\n      <td>Jesse Eisenberg, Woody Harrelson, Emma Stone, ...</td>\n      <td>United States</td>\n      <td>November 1, 2019</td>\n      <td>2009</td>\n      <td>R</td>\n      <td>88 min</td>\n      <td>Comedies, Horror Movies</td>\n      <td>Looking to survive in a world taken over by zo...</td>\n      <td>netflix</td>\n    </tr>\n    <tr>\n      <th>8805</th>\n      <td>Movie</td>\n      <td>Zoom</td>\n      <td>Peter Hewitt</td>\n      <td>Tim Allen, Courteney Cox, Chevy Chase, Kate Ma...</td>\n      <td>United States</td>\n      <td>January 11, 2020</td>\n      <td>2006</td>\n      <td>PG</td>\n      <td>88 min</td>\n      <td>Children &amp; Family Movies, Comedies</td>\n      <td>Dragged from civilian life, a former superhero...</td>\n      <td>netflix</td>\n    </tr>\n    <tr>\n      <th>8806</th>\n      <td>Movie</td>\n      <td>Zubaan</td>\n      <td>Mozez Singh</td>\n      <td>Vicky Kaushal, Sarah-Jane Dias, Raaghav Chanan...</td>\n      <td>India</td>\n      <td>March 2, 2019</td>\n      <td>2015</td>\n      <td>TV-14</td>\n      <td>111 min</td>\n      <td>Dramas, International Movies, Music &amp; Musicals</td>\n      <td>A scrappy but poor boy worms his way into a ty...</td>\n      <td>netflix</td>\n    </tr>\n  </tbody>\n</table>\n<p>22998 rows × 12 columns</p>\n</div>"
     },
     "execution_count": 26,
     "metadata": {},
     "output_type": "execute_result"
    }
   ],
   "source": [
    "full_data"
   ],
   "metadata": {
    "collapsed": false
   }
  },
  {
   "cell_type": "code",
   "execution_count": 27,
   "outputs": [],
   "source": [
    "def clean_director(row):\n",
    "    symbols = \"\\\"$*;<=>@[\\]^_`{|}~\\n\"\n",
    "    special = [\"&nbsp\", \"(4K UHD)\", \"(4k UHD)\", \"(Subbed)\", \"4K UHD\"]\n",
    "    for symbol in symbols:\n",
    "        row = str(row).replace(symbol, \"\")\n",
    "    for s in special:\n",
    "        row = row.replace(s, \" \")\n",
    "    row = row.replace(\"  \", \" \")\n",
    "    if row == \"nan\":\n",
    "        row = \"no director\"\n",
    "    else:\n",
    "        row = row.strip()\n",
    "    return row\n"
   ],
   "metadata": {
    "collapsed": false
   }
  },
  {
   "cell_type": "code",
   "execution_count": 28,
   "outputs": [],
   "source": [
    "full_data.director = full_data.director.apply(clean_director)"
   ],
   "metadata": {
    "collapsed": false
   }
  },
  {
   "cell_type": "code",
   "execution_count": 29,
   "outputs": [
    {
     "data": {
      "text/plain": "       type                        title  \\\n344   Movie       Thunder Run on Baghdad   \n426   Movie              The Tag-Along 2   \n478   Movie                 The Prisoner   \n780   Movie  The 36th Chamber of Shaolin   \n939   Movie                     Song One   \n...     ...                          ...   \n8562  Movie          The Women's Balcony   \n8613  Movie               Train to Busan   \n8631  Movie  Trixie Mattel: Moving Parts   \n8737  Movie   Why Are We Getting So Fat?   \n8789  Movie          You Changed My Life   \n\n                                    director  \\\n344                        Jean-Pierre Krief   \n426                            Wei-Hao Cheng   \n478                             Yen-Ping Chu   \n780                           Liu Chia-liang   \n939                     Kate Barker-Froyland   \n...                                      ...   \n8562                         Emil Ben-Shimon   \n8613                            Sang-ho Yeon   \n8631                     Nicholas Zeig-Owens   \n8737  Milla Harrison-Hansley, Alicky Sussman   \n8789                     Cathy Garcia-Molina   \n\n                                                   cast         country  \\\n344                                                 NaN             NaN   \n426   Rainie Yang, Wei-Ning Hsu, Francesca Kao, Shao...             NaN   \n478   Jackie Chan, Andy Lau, Sammo Kam-Bo Hung, Tony...             NaN   \n780   Gordon Liu Chia-hui, Wang Yu, Lo Lieh, Liu Chi...             NaN   \n939   Anne Hathaway, Johnny Flynn, Mary Steenburgen,...   United States   \n...                                                 ...             ...   \n8562  Evelin Hagoel, Igal Naor, Orna Banay, Einat Sa...          Israel   \n8613  Gong Yoo, Yu-mi Jung, Dong-seok Ma, Soo-an Kim...     South Korea   \n8631                                       Brian Firkus   United States   \n8737                                          Giles Yeo  United Kingdom   \n8789  John Lloyd Cruz, Sarah Geronimo, Rayver Cruz, ...     Philippines   \n\n             date_added  release_year rating duration  \\\n344                 NaN          2013    13+  132 min   \n426                 NaN          2017    16+  107 min   \n478                 NaN          1990      R   97 min   \n780                 NaN          1978      R  112 min   \n939                 NaN          2015  PG-13   88 min   \n...                 ...           ...    ...      ...   \n8562  December 19, 2017          2016  TV-PG  100 min   \n8613     March 18, 2017          2016  TV-MA  118 min   \n8631     March 27, 2020          2019  TV-MA   91 min   \n8737   February 1, 2019          2016  TV-14   50 min   \n8789  February 27, 2019          2009  TV-PG  116 min   \n\n                                              listed_in  \\\n344                          Documentary, International   \n426                                    Horror, Suspense   \n478                                       Action, Drama   \n780                                   Action, Adventure   \n939   Arthouse, Arts, Entertainment, and Culture, Drama   \n...                                                 ...   \n8562             Comedies, Dramas, Faith & Spirituality   \n8613  Action & Adventure, Horror Movies, Internation...   \n8631                    Documentaries, Music & Musicals   \n8737                                      Documentaries   \n8789             Comedies, Dramas, International Movies   \n\n                                            description      platform  \n344   In these previously unaired images, we discove...  amazon prime  \n426   A mother goes in search of her missing teenage...  amazon prime  \n478   A cop goes undercover to infiltrate a deadly p...  amazon prime  \n780   This internationally renowned, award-winning, ...  amazon prime  \n939   Oscar winner Anne Hathaway stars as Franny in ...  amazon prime  \n...                                                 ...           ...  \n8562  A conservative rabbi steps in to lead a congre...       netflix  \n8613  As a zombie outbreak sweeps the country, a dad...       netflix  \n8631  Drag queen Trixie Mattel deals with the bitter...       netflix  \n8737  A Cambridge geneticist dispels misconceptions ...       netflix  \n8789  Laida and Miggy think they've found perfect ha...       netflix  \n\n[349 rows x 12 columns]",
      "text/html": "<div>\n<style scoped>\n    .dataframe tbody tr th:only-of-type {\n        vertical-align: middle;\n    }\n\n    .dataframe tbody tr th {\n        vertical-align: top;\n    }\n\n    .dataframe thead th {\n        text-align: right;\n    }\n</style>\n<table border=\"1\" class=\"dataframe\">\n  <thead>\n    <tr style=\"text-align: right;\">\n      <th></th>\n      <th>type</th>\n      <th>title</th>\n      <th>director</th>\n      <th>cast</th>\n      <th>country</th>\n      <th>date_added</th>\n      <th>release_year</th>\n      <th>rating</th>\n      <th>duration</th>\n      <th>listed_in</th>\n      <th>description</th>\n      <th>platform</th>\n    </tr>\n  </thead>\n  <tbody>\n    <tr>\n      <th>344</th>\n      <td>Movie</td>\n      <td>Thunder Run on Baghdad</td>\n      <td>Jean-Pierre Krief</td>\n      <td>NaN</td>\n      <td>NaN</td>\n      <td>NaN</td>\n      <td>2013</td>\n      <td>13+</td>\n      <td>132 min</td>\n      <td>Documentary, International</td>\n      <td>In these previously unaired images, we discove...</td>\n      <td>amazon prime</td>\n    </tr>\n    <tr>\n      <th>426</th>\n      <td>Movie</td>\n      <td>The Tag-Along 2</td>\n      <td>Wei-Hao Cheng</td>\n      <td>Rainie Yang, Wei-Ning Hsu, Francesca Kao, Shao...</td>\n      <td>NaN</td>\n      <td>NaN</td>\n      <td>2017</td>\n      <td>16+</td>\n      <td>107 min</td>\n      <td>Horror, Suspense</td>\n      <td>A mother goes in search of her missing teenage...</td>\n      <td>amazon prime</td>\n    </tr>\n    <tr>\n      <th>478</th>\n      <td>Movie</td>\n      <td>The Prisoner</td>\n      <td>Yen-Ping Chu</td>\n      <td>Jackie Chan, Andy Lau, Sammo Kam-Bo Hung, Tony...</td>\n      <td>NaN</td>\n      <td>NaN</td>\n      <td>1990</td>\n      <td>R</td>\n      <td>97 min</td>\n      <td>Action, Drama</td>\n      <td>A cop goes undercover to infiltrate a deadly p...</td>\n      <td>amazon prime</td>\n    </tr>\n    <tr>\n      <th>780</th>\n      <td>Movie</td>\n      <td>The 36th Chamber of Shaolin</td>\n      <td>Liu Chia-liang</td>\n      <td>Gordon Liu Chia-hui, Wang Yu, Lo Lieh, Liu Chi...</td>\n      <td>NaN</td>\n      <td>NaN</td>\n      <td>1978</td>\n      <td>R</td>\n      <td>112 min</td>\n      <td>Action, Adventure</td>\n      <td>This internationally renowned, award-winning, ...</td>\n      <td>amazon prime</td>\n    </tr>\n    <tr>\n      <th>939</th>\n      <td>Movie</td>\n      <td>Song One</td>\n      <td>Kate Barker-Froyland</td>\n      <td>Anne Hathaway, Johnny Flynn, Mary Steenburgen,...</td>\n      <td>United States</td>\n      <td>NaN</td>\n      <td>2015</td>\n      <td>PG-13</td>\n      <td>88 min</td>\n      <td>Arthouse, Arts, Entertainment, and Culture, Drama</td>\n      <td>Oscar winner Anne Hathaway stars as Franny in ...</td>\n      <td>amazon prime</td>\n    </tr>\n    <tr>\n      <th>...</th>\n      <td>...</td>\n      <td>...</td>\n      <td>...</td>\n      <td>...</td>\n      <td>...</td>\n      <td>...</td>\n      <td>...</td>\n      <td>...</td>\n      <td>...</td>\n      <td>...</td>\n      <td>...</td>\n      <td>...</td>\n    </tr>\n    <tr>\n      <th>8562</th>\n      <td>Movie</td>\n      <td>The Women's Balcony</td>\n      <td>Emil Ben-Shimon</td>\n      <td>Evelin Hagoel, Igal Naor, Orna Banay, Einat Sa...</td>\n      <td>Israel</td>\n      <td>December 19, 2017</td>\n      <td>2016</td>\n      <td>TV-PG</td>\n      <td>100 min</td>\n      <td>Comedies, Dramas, Faith &amp; Spirituality</td>\n      <td>A conservative rabbi steps in to lead a congre...</td>\n      <td>netflix</td>\n    </tr>\n    <tr>\n      <th>8613</th>\n      <td>Movie</td>\n      <td>Train to Busan</td>\n      <td>Sang-ho Yeon</td>\n      <td>Gong Yoo, Yu-mi Jung, Dong-seok Ma, Soo-an Kim...</td>\n      <td>South Korea</td>\n      <td>March 18, 2017</td>\n      <td>2016</td>\n      <td>TV-MA</td>\n      <td>118 min</td>\n      <td>Action &amp; Adventure, Horror Movies, Internation...</td>\n      <td>As a zombie outbreak sweeps the country, a dad...</td>\n      <td>netflix</td>\n    </tr>\n    <tr>\n      <th>8631</th>\n      <td>Movie</td>\n      <td>Trixie Mattel: Moving Parts</td>\n      <td>Nicholas Zeig-Owens</td>\n      <td>Brian Firkus</td>\n      <td>United States</td>\n      <td>March 27, 2020</td>\n      <td>2019</td>\n      <td>TV-MA</td>\n      <td>91 min</td>\n      <td>Documentaries, Music &amp; Musicals</td>\n      <td>Drag queen Trixie Mattel deals with the bitter...</td>\n      <td>netflix</td>\n    </tr>\n    <tr>\n      <th>8737</th>\n      <td>Movie</td>\n      <td>Why Are We Getting So Fat?</td>\n      <td>Milla Harrison-Hansley, Alicky Sussman</td>\n      <td>Giles Yeo</td>\n      <td>United Kingdom</td>\n      <td>February 1, 2019</td>\n      <td>2016</td>\n      <td>TV-14</td>\n      <td>50 min</td>\n      <td>Documentaries</td>\n      <td>A Cambridge geneticist dispels misconceptions ...</td>\n      <td>netflix</td>\n    </tr>\n    <tr>\n      <th>8789</th>\n      <td>Movie</td>\n      <td>You Changed My Life</td>\n      <td>Cathy Garcia-Molina</td>\n      <td>John Lloyd Cruz, Sarah Geronimo, Rayver Cruz, ...</td>\n      <td>Philippines</td>\n      <td>February 27, 2019</td>\n      <td>2009</td>\n      <td>TV-PG</td>\n      <td>116 min</td>\n      <td>Comedies, Dramas, International Movies</td>\n      <td>Laida and Miggy think they've found perfect ha...</td>\n      <td>netflix</td>\n    </tr>\n  </tbody>\n</table>\n<p>349 rows × 12 columns</p>\n</div>"
     },
     "execution_count": 29,
     "metadata": {},
     "output_type": "execute_result"
    }
   ],
   "source": [
    "full_data[full_data.director.str.contains(\"-\")]"
   ],
   "metadata": {
    "collapsed": false
   }
  },
  {
   "cell_type": "code",
   "execution_count": 30,
   "outputs": [],
   "source": [
    "def clean_cast(row):\n",
    "    symbols = \"\\\"$*;<=>@[\\]^_`{|}~\\n\"\n",
    "    special = [\"&nbsp\"]\n",
    "    for symbol in symbols:\n",
    "        row = str(row).replace(symbol, \"\")\n",
    "    for s in special:\n",
    "        row = row.replace(s, \" \")\n",
    "    row = row.replace(\",  \", \", \")\n",
    "    row = row.replace(\"  \", \", \")\n",
    "    if row == \"nan\":\n",
    "        row = \"no cast\"\n",
    "    else:\n",
    "        row = row.strip()\n",
    "    return row"
   ],
   "metadata": {
    "collapsed": false
   }
  },
  {
   "cell_type": "code",
   "execution_count": 31,
   "outputs": [],
   "source": [
    "full_data.cast = full_data.cast.apply(clean_cast)"
   ],
   "metadata": {
    "collapsed": false
   }
  },
  {
   "cell_type": "code",
   "execution_count": 32,
   "outputs": [],
   "source": [
    "def clean_listed_in(row):\n",
    "    symbols = \"\\\"$*;<=>@[\\]^_`{|}~\\n\"\n",
    "    special = [\"&nbsp\"]\n",
    "    genres = [\"Documentaries\"]\n",
    "    for symbol in symbols:\n",
    "        row = str(row).replace(symbol, \"\")\n",
    "    for s in special:\n",
    "        row = row.replace(s, \" \")\n",
    "    for genre in genres:\n",
    "        row = row.replace(genre, \"Documentary\")\n",
    "    # row = row.replace(\"  \", \" \")\n",
    "\n",
    "    if row == \"nan\":\n",
    "        row = \"no genre\"\n",
    "    else:\n",
    "        row = row.strip()\n",
    "    return row"
   ],
   "metadata": {
    "collapsed": false
   }
  },
  {
   "cell_type": "code",
   "execution_count": 33,
   "outputs": [],
   "source": [
    "full_data.listed_in = full_data.listed_in.apply(clean_listed_in)"
   ],
   "metadata": {
    "collapsed": false
   }
  },
  {
   "cell_type": "code",
   "execution_count": 34,
   "outputs": [
    {
     "data": {
      "text/plain": "Empty DataFrame\nColumns: [type, title, director, cast, country, date_added, release_year, rating, duration, listed_in, description, platform]\nIndex: []",
      "text/html": "<div>\n<style scoped>\n    .dataframe tbody tr th:only-of-type {\n        vertical-align: middle;\n    }\n\n    .dataframe tbody tr th {\n        vertical-align: top;\n    }\n\n    .dataframe thead th {\n        text-align: right;\n    }\n</style>\n<table border=\"1\" class=\"dataframe\">\n  <thead>\n    <tr style=\"text-align: right;\">\n      <th></th>\n      <th>type</th>\n      <th>title</th>\n      <th>director</th>\n      <th>cast</th>\n      <th>country</th>\n      <th>date_added</th>\n      <th>release_year</th>\n      <th>rating</th>\n      <th>duration</th>\n      <th>listed_in</th>\n      <th>description</th>\n      <th>platform</th>\n    </tr>\n  </thead>\n  <tbody>\n  </tbody>\n</table>\n</div>"
     },
     "execution_count": 34,
     "metadata": {},
     "output_type": "execute_result"
    }
   ],
   "source": [
    "full_data[full_data.listed_in.str.contains(\"Documentaries\")]"
   ],
   "metadata": {
    "collapsed": false
   }
  },
  {
   "cell_type": "code",
   "execution_count": 35,
   "outputs": [],
   "source": [
    "def clean_description(row):\n",
    "    symbols = \"\\\"$*;<=>@[\\]^_`{|}~\\n\"\n",
    "    special = [\"&nbsp\"]\n",
    "    for symbol in symbols:\n",
    "        row = str(row).replace(symbol, \"\")\n",
    "    for s in special:\n",
    "        row = row.replace(s, \" \")\n",
    "\n",
    "    if row == \"nan\":\n",
    "        row = \"no description\"\n",
    "    else:\n",
    "        row = row.strip()\n",
    "    return row"
   ],
   "metadata": {
    "collapsed": false
   }
  },
  {
   "cell_type": "code",
   "execution_count": 36,
   "outputs": [],
   "source": [
    "full_data.description = full_data.description.apply(clean_description)"
   ],
   "metadata": {
    "collapsed": false
   }
  },
  {
   "cell_type": "code",
   "execution_count": 37,
   "outputs": [
    {
     "data": {
      "text/plain": "         type                 title         director  \\\n0       Movie   The Grand Seduction     Don McKellar   \n1       Movie  Take Care Good Night     Girish Joshi   \n2       Movie  Secrets of Deception      Josh Webber   \n3       Movie    Pink: Staying True   Sonia Anderson   \n4       Movie         Monster Maker     Giles Foster   \n...       ...                   ...              ...   \n8802    Movie                Zodiac    David Fincher   \n8803  TV Show           Zombie Dumb             None   \n8804    Movie            Zombieland  Ruben Fleischer   \n8805    Movie                  Zoom     Peter Hewitt   \n8806    Movie                Zubaan      Mozez Singh   \n\n                                                   cast         country  \\\n0        Brendan Gleeson, Taylor Kitsch, Gordon Pinsent          Canada   \n1      Mahesh Manjrekar, Abhay Mahajan, Sachin Khedekar           India   \n2     Tom Sizemore, Lorenzo Lamas, Robert LaSardo, R...   United States   \n3     Interviews with: Pink, Adele, Beyoncé, Britney...   United States   \n4     Harry Dean Stanton, Kieran O'Brien, George Cos...  United Kingdom   \n...                                                 ...             ...   \n8802  Mark Ruffalo, Jake Gyllenhaal, Robert Downey J...   United States   \n8803                                               None            None   \n8804  Jesse Eisenberg, Woody Harrelson, Emma Stone, ...   United States   \n8805  Tim Allen, Courteney Cox, Chevy Chase, Kate Ma...   United States   \n8806  Vicky Kaushal, Sarah-Jane Dias, Raaghav Chanan...           India   \n\n             date_added  release_year rating   duration  \\\n0        March 30, 2021          2014    NaN    113 min   \n1        March 30, 2021          2018    13+    110 min   \n2        March 30, 2021          2017    NaN     74 min   \n3        March 30, 2021          2014    NaN     69 min   \n4        March 30, 2021          1989    NaN     45 min   \n...                 ...           ...    ...        ...   \n8802  November 20, 2019          2007      R    158 min   \n8803       July 1, 2019          2018  TV-Y7  2 Seasons   \n8804   November 1, 2019          2009      R     88 min   \n8805   January 11, 2020          2006     PG     88 min   \n8806      March 2, 2019          2015  TV-14    111 min   \n\n                                           listed_in  \\\n0                                      Comedy, Drama   \n1                               Drama, International   \n2                            Action, Drama, Suspense   \n3                                        Documentary   \n4                                     Drama, Fantasy   \n...                                              ...   \n8802                  Cult Movies, Dramas, Thrillers   \n8803          Kids' TV, Korean TV Shows, TV Comedies   \n8804                         Comedies, Horror Movies   \n8805              Children & Family Movies, Comedies   \n8806  Dramas, International Movies, Music & Musicals   \n\n                                            description      platform  \n0     A small fishing village must procure a local d...  amazon prime  \n1     A Metro Family decides to fight a Cyber Crimin...  amazon prime  \n2     After a man discovers his wife is cheating on ...  amazon prime  \n3     Pink breaks the mold once again, bringing her ...  amazon prime  \n4     Teenage Matt Banting wants to work with a famo...  amazon prime  \n...                                                 ...           ...  \n8802  A political cartoonist, a crime reporter and a...       netflix  \n8803  While living alone in a spooky town, a young g...       netflix  \n8804  Looking to survive in a world taken over by zo...       netflix  \n8805  Dragged from civilian life, a former superhero...       netflix  \n8806  A scrappy but poor boy worms his way into a ty...       netflix  \n\n[22998 rows x 12 columns]",
      "text/html": "<div>\n<style scoped>\n    .dataframe tbody tr th:only-of-type {\n        vertical-align: middle;\n    }\n\n    .dataframe tbody tr th {\n        vertical-align: top;\n    }\n\n    .dataframe thead th {\n        text-align: right;\n    }\n</style>\n<table border=\"1\" class=\"dataframe\">\n  <thead>\n    <tr style=\"text-align: right;\">\n      <th></th>\n      <th>type</th>\n      <th>title</th>\n      <th>director</th>\n      <th>cast</th>\n      <th>country</th>\n      <th>date_added</th>\n      <th>release_year</th>\n      <th>rating</th>\n      <th>duration</th>\n      <th>listed_in</th>\n      <th>description</th>\n      <th>platform</th>\n    </tr>\n  </thead>\n  <tbody>\n    <tr>\n      <th>0</th>\n      <td>Movie</td>\n      <td>The Grand Seduction</td>\n      <td>Don McKellar</td>\n      <td>Brendan Gleeson, Taylor Kitsch, Gordon Pinsent</td>\n      <td>Canada</td>\n      <td>March 30, 2021</td>\n      <td>2014</td>\n      <td>NaN</td>\n      <td>113 min</td>\n      <td>Comedy, Drama</td>\n      <td>A small fishing village must procure a local d...</td>\n      <td>amazon prime</td>\n    </tr>\n    <tr>\n      <th>1</th>\n      <td>Movie</td>\n      <td>Take Care Good Night</td>\n      <td>Girish Joshi</td>\n      <td>Mahesh Manjrekar, Abhay Mahajan, Sachin Khedekar</td>\n      <td>India</td>\n      <td>March 30, 2021</td>\n      <td>2018</td>\n      <td>13+</td>\n      <td>110 min</td>\n      <td>Drama, International</td>\n      <td>A Metro Family decides to fight a Cyber Crimin...</td>\n      <td>amazon prime</td>\n    </tr>\n    <tr>\n      <th>2</th>\n      <td>Movie</td>\n      <td>Secrets of Deception</td>\n      <td>Josh Webber</td>\n      <td>Tom Sizemore, Lorenzo Lamas, Robert LaSardo, R...</td>\n      <td>United States</td>\n      <td>March 30, 2021</td>\n      <td>2017</td>\n      <td>NaN</td>\n      <td>74 min</td>\n      <td>Action, Drama, Suspense</td>\n      <td>After a man discovers his wife is cheating on ...</td>\n      <td>amazon prime</td>\n    </tr>\n    <tr>\n      <th>3</th>\n      <td>Movie</td>\n      <td>Pink: Staying True</td>\n      <td>Sonia Anderson</td>\n      <td>Interviews with: Pink, Adele, Beyoncé, Britney...</td>\n      <td>United States</td>\n      <td>March 30, 2021</td>\n      <td>2014</td>\n      <td>NaN</td>\n      <td>69 min</td>\n      <td>Documentary</td>\n      <td>Pink breaks the mold once again, bringing her ...</td>\n      <td>amazon prime</td>\n    </tr>\n    <tr>\n      <th>4</th>\n      <td>Movie</td>\n      <td>Monster Maker</td>\n      <td>Giles Foster</td>\n      <td>Harry Dean Stanton, Kieran O'Brien, George Cos...</td>\n      <td>United Kingdom</td>\n      <td>March 30, 2021</td>\n      <td>1989</td>\n      <td>NaN</td>\n      <td>45 min</td>\n      <td>Drama, Fantasy</td>\n      <td>Teenage Matt Banting wants to work with a famo...</td>\n      <td>amazon prime</td>\n    </tr>\n    <tr>\n      <th>...</th>\n      <td>...</td>\n      <td>...</td>\n      <td>...</td>\n      <td>...</td>\n      <td>...</td>\n      <td>...</td>\n      <td>...</td>\n      <td>...</td>\n      <td>...</td>\n      <td>...</td>\n      <td>...</td>\n      <td>...</td>\n    </tr>\n    <tr>\n      <th>8802</th>\n      <td>Movie</td>\n      <td>Zodiac</td>\n      <td>David Fincher</td>\n      <td>Mark Ruffalo, Jake Gyllenhaal, Robert Downey J...</td>\n      <td>United States</td>\n      <td>November 20, 2019</td>\n      <td>2007</td>\n      <td>R</td>\n      <td>158 min</td>\n      <td>Cult Movies, Dramas, Thrillers</td>\n      <td>A political cartoonist, a crime reporter and a...</td>\n      <td>netflix</td>\n    </tr>\n    <tr>\n      <th>8803</th>\n      <td>TV Show</td>\n      <td>Zombie Dumb</td>\n      <td>None</td>\n      <td>None</td>\n      <td>None</td>\n      <td>July 1, 2019</td>\n      <td>2018</td>\n      <td>TV-Y7</td>\n      <td>2 Seasons</td>\n      <td>Kids' TV, Korean TV Shows, TV Comedies</td>\n      <td>While living alone in a spooky town, a young g...</td>\n      <td>netflix</td>\n    </tr>\n    <tr>\n      <th>8804</th>\n      <td>Movie</td>\n      <td>Zombieland</td>\n      <td>Ruben Fleischer</td>\n      <td>Jesse Eisenberg, Woody Harrelson, Emma Stone, ...</td>\n      <td>United States</td>\n      <td>November 1, 2019</td>\n      <td>2009</td>\n      <td>R</td>\n      <td>88 min</td>\n      <td>Comedies, Horror Movies</td>\n      <td>Looking to survive in a world taken over by zo...</td>\n      <td>netflix</td>\n    </tr>\n    <tr>\n      <th>8805</th>\n      <td>Movie</td>\n      <td>Zoom</td>\n      <td>Peter Hewitt</td>\n      <td>Tim Allen, Courteney Cox, Chevy Chase, Kate Ma...</td>\n      <td>United States</td>\n      <td>January 11, 2020</td>\n      <td>2006</td>\n      <td>PG</td>\n      <td>88 min</td>\n      <td>Children &amp; Family Movies, Comedies</td>\n      <td>Dragged from civilian life, a former superhero...</td>\n      <td>netflix</td>\n    </tr>\n    <tr>\n      <th>8806</th>\n      <td>Movie</td>\n      <td>Zubaan</td>\n      <td>Mozez Singh</td>\n      <td>Vicky Kaushal, Sarah-Jane Dias, Raaghav Chanan...</td>\n      <td>India</td>\n      <td>March 2, 2019</td>\n      <td>2015</td>\n      <td>TV-14</td>\n      <td>111 min</td>\n      <td>Dramas, International Movies, Music &amp; Musicals</td>\n      <td>A scrappy but poor boy worms his way into a ty...</td>\n      <td>netflix</td>\n    </tr>\n  </tbody>\n</table>\n<p>22998 rows × 12 columns</p>\n</div>"
     },
     "execution_count": 37,
     "metadata": {},
     "output_type": "execute_result"
    }
   ],
   "source": [
    "full_data"
   ],
   "metadata": {
    "collapsed": false
   }
  },
  {
   "cell_type": "code",
   "execution_count": 38,
   "outputs": [],
   "source": [
    "full_data.drop_duplicates(inplace=True)"
   ],
   "metadata": {
    "collapsed": false
   }
  },
  {
   "cell_type": "code",
   "execution_count": 39,
   "outputs": [],
   "source": [
    "full_data.reset_index(inplace=True)"
   ],
   "metadata": {
    "collapsed": false
   }
  },
  {
   "cell_type": "code",
   "execution_count": 40,
   "outputs": [],
   "source": [
    "def clean_duration(row):\n",
    "    symbols = \"\\\"$*;<=>@[\\]^_`{|}~\\n\"\n",
    "    special = [\"&nbsp\"]\n",
    "    for symbol in symbols:\n",
    "        row = str(row).replace(symbol, \"\")\n",
    "    for s in special:\n",
    "        row = row.replace(s, \" \")\n",
    "\n",
    "    if row == \"nan\":\n",
    "        row = None\n",
    "    else:\n",
    "        row = row.strip()\n",
    "    return row"
   ],
   "metadata": {
    "collapsed": false
   }
  },
  {
   "cell_type": "code",
   "execution_count": 41,
   "outputs": [],
   "source": [
    "full_data.duration = full_data.duration.apply(clean_duration)"
   ],
   "metadata": {
    "collapsed": false
   }
  },
  {
   "cell_type": "code",
   "execution_count": 55,
   "outputs": [
    {
     "data": {
      "text/plain": "       index   type                                 title    director  \\\n19660   5541  Movie                       Louis C.K. 2017  Louis C.K.   \n19913   5794  Movie                 Louis C.K.: Hilarious  Louis C.K.   \n19932   5813  Movie  Louis C.K.: Live at the Comedy Store  Louis C.K.   \n\n             cast        country          date_added  release_year  rating  \\\n19660  Louis C.K.  United States       April 4, 2017          2017  74 min   \n19913  Louis C.K.  United States  September 16, 2016          2010  84 min   \n19932  Louis C.K.  United States     August 15, 2016          2015  66 min   \n\n      duration listed_in                                        description  \\\n19660     None    Movies  Louis C.K. muses on religion, eternal love, gi...   \n19913     None    Movies  Emmy-winning comedy writer Louis C.K. brings h...   \n19932     None    Movies  The comic puts his trademark hilarious/thought...   \n\n      platform  \n19660  netflix  \n19913  netflix  \n19932  netflix  ",
      "text/html": "<div>\n<style scoped>\n    .dataframe tbody tr th:only-of-type {\n        vertical-align: middle;\n    }\n\n    .dataframe tbody tr th {\n        vertical-align: top;\n    }\n\n    .dataframe thead th {\n        text-align: right;\n    }\n</style>\n<table border=\"1\" class=\"dataframe\">\n  <thead>\n    <tr style=\"text-align: right;\">\n      <th></th>\n      <th>index</th>\n      <th>type</th>\n      <th>title</th>\n      <th>director</th>\n      <th>cast</th>\n      <th>country</th>\n      <th>date_added</th>\n      <th>release_year</th>\n      <th>rating</th>\n      <th>duration</th>\n      <th>listed_in</th>\n      <th>description</th>\n      <th>platform</th>\n    </tr>\n  </thead>\n  <tbody>\n    <tr>\n      <th>19660</th>\n      <td>5541</td>\n      <td>Movie</td>\n      <td>Louis C.K. 2017</td>\n      <td>Louis C.K.</td>\n      <td>Louis C.K.</td>\n      <td>United States</td>\n      <td>April 4, 2017</td>\n      <td>2017</td>\n      <td>74 min</td>\n      <td>None</td>\n      <td>Movies</td>\n      <td>Louis C.K. muses on religion, eternal love, gi...</td>\n      <td>netflix</td>\n    </tr>\n    <tr>\n      <th>19913</th>\n      <td>5794</td>\n      <td>Movie</td>\n      <td>Louis C.K.: Hilarious</td>\n      <td>Louis C.K.</td>\n      <td>Louis C.K.</td>\n      <td>United States</td>\n      <td>September 16, 2016</td>\n      <td>2010</td>\n      <td>84 min</td>\n      <td>None</td>\n      <td>Movies</td>\n      <td>Emmy-winning comedy writer Louis C.K. brings h...</td>\n      <td>netflix</td>\n    </tr>\n    <tr>\n      <th>19932</th>\n      <td>5813</td>\n      <td>Movie</td>\n      <td>Louis C.K.: Live at the Comedy Store</td>\n      <td>Louis C.K.</td>\n      <td>Louis C.K.</td>\n      <td>United States</td>\n      <td>August 15, 2016</td>\n      <td>2015</td>\n      <td>66 min</td>\n      <td>None</td>\n      <td>Movies</td>\n      <td>The comic puts his trademark hilarious/thought...</td>\n      <td>netflix</td>\n    </tr>\n  </tbody>\n</table>\n</div>"
     },
     "execution_count": 55,
     "metadata": {},
     "output_type": "execute_result"
    }
   ],
   "source": [
    "full_data[full_data.duration == \"None\"]\n"
   ],
   "metadata": {
    "collapsed": false
   }
  },
  {
   "cell_type": "code",
   "execution_count": 56,
   "outputs": [
    {
     "ename": "ValueError",
     "evalue": "The truth value of a Series is ambiguous. Use a.empty, a.bool(), a.item(), a.any() or a.all().",
     "output_type": "error",
     "traceback": [
      "\u001B[1;31m---------------------------------------------------------------------------\u001B[0m",
      "\u001B[1;31mValueError\u001B[0m                                Traceback (most recent call last)",
      "Cell \u001B[1;32mIn[56], line 1\u001B[0m\n\u001B[1;32m----> 1\u001B[0m full_data[\u001B[38;5;124m\"\u001B[39m\u001B[38;5;124mduration\u001B[39m\u001B[38;5;124m\"\u001B[39m], full_data[\u001B[38;5;124m\"\u001B[39m\u001B[38;5;124mmeasure_duration\u001B[39m\u001B[38;5;124m\"\u001B[39m] \u001B[38;5;241m=\u001B[39m full_data\u001B[38;5;241m.\u001B[39mduration\u001B[38;5;241m.\u001B[39mstr\u001B[38;5;241m.\u001B[39msplit(\u001B[38;5;124m\"\u001B[39m\u001B[38;5;124m \u001B[39m\u001B[38;5;124m\"\u001B[39m) \u001B[38;5;28;01mif\u001B[39;00m \u001B[43mfull_data\u001B[49m\u001B[38;5;241;43m.\u001B[39;49m\u001B[43mduration\u001B[49m\u001B[43m \u001B[49m\u001B[38;5;241;43m!=\u001B[39;49m\u001B[43m \u001B[49m\u001B[38;5;124;43m\"\u001B[39;49m\u001B[38;5;124;43mNone\u001B[39;49m\u001B[38;5;124;43m\"\u001B[39;49m \u001B[38;5;28;01melse\u001B[39;00m (\u001B[38;5;28;01mNone\u001B[39;00m, \u001B[38;5;28;01mNone\u001B[39;00m)\n",
      "File \u001B[1;32m~\\PycharmProjects\\Projecto-Individual-01\\venv\\lib\\site-packages\\pandas\\core\\generic.py:1527\u001B[0m, in \u001B[0;36mNDFrame.__nonzero__\u001B[1;34m(self)\u001B[0m\n\u001B[0;32m   1525\u001B[0m \u001B[38;5;129m@final\u001B[39m\n\u001B[0;32m   1526\u001B[0m \u001B[38;5;28;01mdef\u001B[39;00m \u001B[38;5;21m__nonzero__\u001B[39m(\u001B[38;5;28mself\u001B[39m) \u001B[38;5;241m-\u001B[39m\u001B[38;5;241m>\u001B[39m NoReturn:\n\u001B[1;32m-> 1527\u001B[0m     \u001B[38;5;28;01mraise\u001B[39;00m \u001B[38;5;167;01mValueError\u001B[39;00m(\n\u001B[0;32m   1528\u001B[0m         \u001B[38;5;124mf\u001B[39m\u001B[38;5;124m\"\u001B[39m\u001B[38;5;124mThe truth value of a \u001B[39m\u001B[38;5;132;01m{\u001B[39;00m\u001B[38;5;28mtype\u001B[39m(\u001B[38;5;28mself\u001B[39m)\u001B[38;5;241m.\u001B[39m\u001B[38;5;18m__name__\u001B[39m\u001B[38;5;132;01m}\u001B[39;00m\u001B[38;5;124m is ambiguous. \u001B[39m\u001B[38;5;124m\"\u001B[39m\n\u001B[0;32m   1529\u001B[0m         \u001B[38;5;124m\"\u001B[39m\u001B[38;5;124mUse a.empty, a.bool(), a.item(), a.any() or a.all().\u001B[39m\u001B[38;5;124m\"\u001B[39m\n\u001B[0;32m   1530\u001B[0m     )\n",
      "\u001B[1;31mValueError\u001B[0m: The truth value of a Series is ambiguous. Use a.empty, a.bool(), a.item(), a.any() or a.all()."
     ]
    }
   ],
   "source": [
    "full_data[\"duration\"], full_data[\"measure_duration\"] = full_data.duration.str.split(\" \") if full_data.duration != \"None\" else (None, None)"
   ],
   "metadata": {
    "collapsed": false
   }
  },
  {
   "cell_type": "code",
   "execution_count": null,
   "outputs": [],
   "source": [
    "full_data.to_json(\"./datasets/all_data_cleaned.json\")"
   ],
   "metadata": {
    "collapsed": false
   }
  },
  {
   "cell_type": "code",
   "execution_count": null,
   "outputs": [],
   "source": [
    "full_data.to_csv(\"./datasets/all_data_cleaned.csv\")"
   ],
   "metadata": {
    "collapsed": false
   }
  },
  {
   "cell_type": "code",
   "execution_count": null,
   "outputs": [],
   "source": [],
   "metadata": {
    "collapsed": false
   }
  }
 ],
 "metadata": {
  "kernelspec": {
   "display_name": "Python 3",
   "language": "python",
   "name": "python3"
  },
  "language_info": {
   "codemirror_mode": {
    "name": "ipython",
    "version": 2
   },
   "file_extension": ".py",
   "mimetype": "text/x-python",
   "name": "python",
   "nbconvert_exporter": "python",
   "pygments_lexer": "ipython2",
   "version": "2.7.6"
  }
 },
 "nbformat": 4,
 "nbformat_minor": 0
}
